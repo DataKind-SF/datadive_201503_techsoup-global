{
 "cells": [
  {
   "cell_type": "code",
   "execution_count": 1,
   "metadata": {
    "collapsed": false
   },
   "outputs": [],
   "source": [
    "import datetime\n",
    "import pandas as pd\n",
    "import matplotlib.pyplot as plt\n",
    "import seaborn as sns\n",
    "import numpy as np\n",
    "from sklearn.metrics.pairwise import euclidean_distances\n",
    "from sklearn.metrics.pairwise import manhattan_distances\n",
    "\n",
    "%matplotlib inline"
   ]
  },
  {
   "cell_type": "code",
   "execution_count": 3,
   "metadata": {
    "collapsed": false
   },
   "outputs": [],
   "source": [
    "df = pd.read_csv(\"datakind_extract_keyfields.csv\", low_memory=False)"
   ]
  },
  {
   "cell_type": "code",
   "execution_count": 4,
   "metadata": {
    "collapsed": false
   },
   "outputs": [
    {
     "data": {
      "text/html": [
       "<div style=\"max-height:1000px;max-width:1500px;overflow:auto;\">\n",
       "<table border=\"1\" class=\"dataframe\">\n",
       "  <thead>\n",
       "    <tr style=\"text-align: right;\">\n",
       "      <th></th>\n",
       "      <th>org</th>\n",
       "      <th>city</th>\n",
       "      <th>state</th>\n",
       "      <th>country</th>\n",
       "      <th>org_type</th>\n",
       "      <th>org_subtype</th>\n",
       "      <th>budget</th>\n",
       "      <th>reg date</th>\n",
       "      <th>contact</th>\n",
       "      <th>role</th>\n",
       "      <th>order_num</th>\n",
       "      <th>transaction_date</th>\n",
       "      <th>vendor</th>\n",
       "      <th>item</th>\n",
       "      <th>licenses</th>\n",
       "      <th>revenue</th>\n",
       "      <th>value</th>\n",
       "    </tr>\n",
       "  </thead>\n",
       "  <tbody>\n",
       "    <tr>\n",
       "      <th>0</th>\n",
       "      <td>100118</td>\n",
       "      <td>Toledo,</td>\n",
       "      <td>OH</td>\n",
       "      <td>US</td>\n",
       "      <td>5</td>\n",
       "      <td>160</td>\n",
       "      <td>80000</td>\n",
       "      <td>2002-06-20 11:59:29.967</td>\n",
       "      <td>28892</td>\n",
       "      <td>26</td>\n",
       "      <td>6666</td>\n",
       "      <td>2002-06-20 00:00:00.0</td>\n",
       "      <td>3882</td>\n",
       "      <td>11951053</td>\n",
       "      <td>1</td>\n",
       "      <td>60</td>\n",
       "      <td>579</td>\n",
       "    </tr>\n",
       "    <tr>\n",
       "      <th>1</th>\n",
       "      <td>100118</td>\n",
       "      <td>Toledo,</td>\n",
       "      <td>OH</td>\n",
       "      <td>US</td>\n",
       "      <td>5</td>\n",
       "      <td>160</td>\n",
       "      <td>80000</td>\n",
       "      <td>2002-06-20 11:59:29.967</td>\n",
       "      <td>28892</td>\n",
       "      <td>26</td>\n",
       "      <td>6666</td>\n",
       "      <td>2002-06-20 00:00:00.0</td>\n",
       "      <td>3882</td>\n",
       "      <td>11951054</td>\n",
       "      <td>1</td>\n",
       "      <td>60</td>\n",
       "      <td>319</td>\n",
       "    </tr>\n",
       "    <tr>\n",
       "      <th>2</th>\n",
       "      <td>100118</td>\n",
       "      <td>Toledo,</td>\n",
       "      <td>OH</td>\n",
       "      <td>US</td>\n",
       "      <td>5</td>\n",
       "      <td>160</td>\n",
       "      <td>80000</td>\n",
       "      <td>2002-06-20 11:59:29.967</td>\n",
       "      <td>28892</td>\n",
       "      <td>26</td>\n",
       "      <td>624070</td>\n",
       "      <td>2011-08-26 00:00:00.0</td>\n",
       "      <td>3882</td>\n",
       "      <td>45200711</td>\n",
       "      <td>1</td>\n",
       "      <td>31</td>\n",
       "      <td>765</td>\n",
       "    </tr>\n",
       "    <tr>\n",
       "      <th>3</th>\n",
       "      <td>100118</td>\n",
       "      <td>Toledo,</td>\n",
       "      <td>OH</td>\n",
       "      <td>US</td>\n",
       "      <td>5</td>\n",
       "      <td>160</td>\n",
       "      <td>80000</td>\n",
       "      <td>2002-06-20 11:59:29.967</td>\n",
       "      <td>28892</td>\n",
       "      <td>26</td>\n",
       "      <td>624070</td>\n",
       "      <td>2011-08-26 00:00:00.0</td>\n",
       "      <td>3882</td>\n",
       "      <td>11951394</td>\n",
       "      <td>3</td>\n",
       "      <td>69</td>\n",
       "      <td>1731</td>\n",
       "    </tr>\n",
       "    <tr>\n",
       "      <th>4</th>\n",
       "      <td>100118</td>\n",
       "      <td>Toledo,</td>\n",
       "      <td>OH</td>\n",
       "      <td>US</td>\n",
       "      <td>5</td>\n",
       "      <td>160</td>\n",
       "      <td>80000</td>\n",
       "      <td>2002-06-20 11:59:29.967</td>\n",
       "      <td>28892</td>\n",
       "      <td>26</td>\n",
       "      <td>624070</td>\n",
       "      <td>2011-08-26 00:00:00.0</td>\n",
       "      <td>3882</td>\n",
       "      <td>45200669</td>\n",
       "      <td>2</td>\n",
       "      <td>48</td>\n",
       "      <td>1176</td>\n",
       "    </tr>\n",
       "  </tbody>\n",
       "</table>\n",
       "</div>"
      ],
      "text/plain": [
       "      org     city state country  org_type org_subtype budget  \\\n",
       "0  100118  Toledo,    OH      US         5         160  80000   \n",
       "1  100118  Toledo,    OH      US         5         160  80000   \n",
       "2  100118  Toledo,    OH      US         5         160  80000   \n",
       "3  100118  Toledo,    OH      US         5         160  80000   \n",
       "4  100118  Toledo,    OH      US         5         160  80000   \n",
       "\n",
       "                  reg date  contact  role  order_num       transaction_date  \\\n",
       "0  2002-06-20 11:59:29.967    28892    26       6666  2002-06-20 00:00:00.0   \n",
       "1  2002-06-20 11:59:29.967    28892    26       6666  2002-06-20 00:00:00.0   \n",
       "2  2002-06-20 11:59:29.967    28892    26     624070  2011-08-26 00:00:00.0   \n",
       "3  2002-06-20 11:59:29.967    28892    26     624070  2011-08-26 00:00:00.0   \n",
       "4  2002-06-20 11:59:29.967    28892    26     624070  2011-08-26 00:00:00.0   \n",
       "\n",
       "   vendor      item  licenses  revenue  value  \n",
       "0    3882  11951053         1       60    579  \n",
       "1    3882  11951054         1       60    319  \n",
       "2    3882  45200711         1       31    765  \n",
       "3    3882  11951394         3       69   1731  \n",
       "4    3882  45200669         2       48   1176  "
      ]
     },
     "execution_count": 4,
     "metadata": {},
     "output_type": "execute_result"
    }
   ],
   "source": [
    "df.head()"
   ]
  },
  {
   "cell_type": "markdown",
   "metadata": {},
   "source": [
    "# Filter by year"
   ]
  },
  {
   "cell_type": "code",
   "execution_count": 5,
   "metadata": {
    "collapsed": false
   },
   "outputs": [],
   "source": [
    "df['reg date'] = pd.to_datetime(df['reg date'], format='%Y-%m-%d %H:%M:%S.%f')\n",
    "soup = df[df['reg date'].apply(lambda x: x.year).isin([2012, 2013, 2014])]"
   ]
  },
  {
   "cell_type": "markdown",
   "metadata": {},
   "source": [
    "# Convert long to wide dataframe"
   ]
  },
  {
   "cell_type": "code",
   "execution_count": 6,
   "metadata": {
    "collapsed": false
   },
   "outputs": [],
   "source": [
    "soup_group = pd.crosstab(soup.org, soup.item)"
   ]
  },
  {
   "cell_type": "code",
   "execution_count": 7,
   "metadata": {
    "collapsed": false
   },
   "outputs": [
    {
     "data": {
      "text/html": [
       "<div style=\"max-height:1000px;max-width:1500px;overflow:auto;\">\n",
       "<table border=\"1\" class=\"dataframe\">\n",
       "  <thead>\n",
       "    <tr style=\"text-align: right;\">\n",
       "      <th>item</th>\n",
       "      <th>11950880</th>\n",
       "      <th>11950902</th>\n",
       "      <th>11950912</th>\n",
       "      <th>11951016</th>\n",
       "      <th>11951055</th>\n",
       "      <th>11951057</th>\n",
       "      <th>11951146</th>\n",
       "      <th>11951185</th>\n",
       "      <th>11951230</th>\n",
       "      <th>11951248</th>\n",
       "      <th>...</th>\n",
       "      <th>101384637</th>\n",
       "      <th>101664400</th>\n",
       "      <th>101769558</th>\n",
       "      <th>101769573</th>\n",
       "      <th>101769588</th>\n",
       "      <th>101769603</th>\n",
       "      <th>101769618</th>\n",
       "      <th>102373968</th>\n",
       "      <th>102440866</th>\n",
       "      <th>102440884</th>\n",
       "    </tr>\n",
       "    <tr>\n",
       "      <th>org</th>\n",
       "      <th></th>\n",
       "      <th></th>\n",
       "      <th></th>\n",
       "      <th></th>\n",
       "      <th></th>\n",
       "      <th></th>\n",
       "      <th></th>\n",
       "      <th></th>\n",
       "      <th></th>\n",
       "      <th></th>\n",
       "      <th></th>\n",
       "      <th></th>\n",
       "      <th></th>\n",
       "      <th></th>\n",
       "      <th></th>\n",
       "      <th></th>\n",
       "      <th></th>\n",
       "      <th></th>\n",
       "      <th></th>\n",
       "      <th></th>\n",
       "      <th></th>\n",
       "    </tr>\n",
       "  </thead>\n",
       "  <tbody>\n",
       "    <tr>\n",
       "      <th>649419</th>\n",
       "      <td>0</td>\n",
       "      <td>0</td>\n",
       "      <td>0</td>\n",
       "      <td>0</td>\n",
       "      <td>0</td>\n",
       "      <td>0</td>\n",
       "      <td>0</td>\n",
       "      <td>0</td>\n",
       "      <td>0</td>\n",
       "      <td>0</td>\n",
       "      <td>...</td>\n",
       "      <td>0</td>\n",
       "      <td>0</td>\n",
       "      <td>0</td>\n",
       "      <td>0</td>\n",
       "      <td>0</td>\n",
       "      <td>0</td>\n",
       "      <td>0</td>\n",
       "      <td>0</td>\n",
       "      <td>0</td>\n",
       "      <td>0</td>\n",
       "    </tr>\n",
       "    <tr>\n",
       "      <th>649421</th>\n",
       "      <td>0</td>\n",
       "      <td>0</td>\n",
       "      <td>0</td>\n",
       "      <td>0</td>\n",
       "      <td>0</td>\n",
       "      <td>0</td>\n",
       "      <td>0</td>\n",
       "      <td>0</td>\n",
       "      <td>0</td>\n",
       "      <td>0</td>\n",
       "      <td>...</td>\n",
       "      <td>0</td>\n",
       "      <td>0</td>\n",
       "      <td>0</td>\n",
       "      <td>0</td>\n",
       "      <td>0</td>\n",
       "      <td>0</td>\n",
       "      <td>0</td>\n",
       "      <td>0</td>\n",
       "      <td>0</td>\n",
       "      <td>0</td>\n",
       "    </tr>\n",
       "    <tr>\n",
       "      <th>649423</th>\n",
       "      <td>0</td>\n",
       "      <td>0</td>\n",
       "      <td>0</td>\n",
       "      <td>0</td>\n",
       "      <td>0</td>\n",
       "      <td>0</td>\n",
       "      <td>0</td>\n",
       "      <td>0</td>\n",
       "      <td>0</td>\n",
       "      <td>0</td>\n",
       "      <td>...</td>\n",
       "      <td>0</td>\n",
       "      <td>0</td>\n",
       "      <td>0</td>\n",
       "      <td>0</td>\n",
       "      <td>0</td>\n",
       "      <td>0</td>\n",
       "      <td>0</td>\n",
       "      <td>0</td>\n",
       "      <td>0</td>\n",
       "      <td>0</td>\n",
       "    </tr>\n",
       "    <tr>\n",
       "      <th>649428</th>\n",
       "      <td>0</td>\n",
       "      <td>0</td>\n",
       "      <td>0</td>\n",
       "      <td>0</td>\n",
       "      <td>0</td>\n",
       "      <td>0</td>\n",
       "      <td>0</td>\n",
       "      <td>0</td>\n",
       "      <td>0</td>\n",
       "      <td>0</td>\n",
       "      <td>...</td>\n",
       "      <td>0</td>\n",
       "      <td>0</td>\n",
       "      <td>0</td>\n",
       "      <td>0</td>\n",
       "      <td>0</td>\n",
       "      <td>0</td>\n",
       "      <td>0</td>\n",
       "      <td>0</td>\n",
       "      <td>0</td>\n",
       "      <td>0</td>\n",
       "    </tr>\n",
       "    <tr>\n",
       "      <th>649433</th>\n",
       "      <td>0</td>\n",
       "      <td>0</td>\n",
       "      <td>0</td>\n",
       "      <td>0</td>\n",
       "      <td>0</td>\n",
       "      <td>0</td>\n",
       "      <td>0</td>\n",
       "      <td>0</td>\n",
       "      <td>0</td>\n",
       "      <td>0</td>\n",
       "      <td>...</td>\n",
       "      <td>0</td>\n",
       "      <td>0</td>\n",
       "      <td>0</td>\n",
       "      <td>0</td>\n",
       "      <td>0</td>\n",
       "      <td>0</td>\n",
       "      <td>0</td>\n",
       "      <td>0</td>\n",
       "      <td>0</td>\n",
       "      <td>0</td>\n",
       "    </tr>\n",
       "  </tbody>\n",
       "</table>\n",
       "<p>5 rows × 2374 columns</p>\n",
       "</div>"
      ],
      "text/plain": [
       "item    11950880   11950902   11950912   11951016   11951055   11951057   \\\n",
       "org                                                                        \n",
       "649419          0          0          0          0          0          0   \n",
       "649421          0          0          0          0          0          0   \n",
       "649423          0          0          0          0          0          0   \n",
       "649428          0          0          0          0          0          0   \n",
       "649433          0          0          0          0          0          0   \n",
       "\n",
       "item    11951146   11951185   11951230   11951248     ...      101384637  \\\n",
       "org                                                   ...                  \n",
       "649419          0          0          0          0    ...              0   \n",
       "649421          0          0          0          0    ...              0   \n",
       "649423          0          0          0          0    ...              0   \n",
       "649428          0          0          0          0    ...              0   \n",
       "649433          0          0          0          0    ...              0   \n",
       "\n",
       "item    101664400  101769558  101769573  101769588  101769603  101769618  \\\n",
       "org                                                                        \n",
       "649419          0          0          0          0          0          0   \n",
       "649421          0          0          0          0          0          0   \n",
       "649423          0          0          0          0          0          0   \n",
       "649428          0          0          0          0          0          0   \n",
       "649433          0          0          0          0          0          0   \n",
       "\n",
       "item    102373968  102440866  102440884  \n",
       "org                                      \n",
       "649419          0          0          0  \n",
       "649421          0          0          0  \n",
       "649423          0          0          0  \n",
       "649428          0          0          0  \n",
       "649433          0          0          0  \n",
       "\n",
       "[5 rows x 2374 columns]"
      ]
     },
     "execution_count": 7,
     "metadata": {},
     "output_type": "execute_result"
    }
   ],
   "source": [
    "soup_group.head()"
   ]
  },
  {
   "cell_type": "markdown",
   "metadata": {},
   "source": [
    "# Most orgs have bought less than 15 items between 2012-2014"
   ]
  },
  {
   "cell_type": "code",
   "execution_count": 32,
   "metadata": {
    "collapsed": false
   },
   "outputs": [],
   "source": [
    "total_org_purchases = soup_group.sum(axis=1)"
   ]
  },
  {
   "cell_type": "code",
   "execution_count": 33,
   "metadata": {
    "collapsed": false
   },
   "outputs": [
    {
     "data": {
      "image/png": "[encoded data removed]",
      "text/plain": [
       "<matplotlib.figure.Figure at 0x10b3b3810>"
      ]
     },
     "metadata": {},
     "output_type": "display_data"
    }
   ],
   "source": [
    "plt.figure(figsize=(10,5))\n",
    "plt.plot(sorted(total_org_purchases))\n",
    "plt.title(\"Purchase Totals by Organization\")\n",
    "plt.show()"
   ]
  },
  {
   "cell_type": "markdown",
   "metadata": {},
   "source": [
    "# Log transform counts in org by item dataframe"
   ]
  },
  {
   "cell_type": "code",
   "execution_count": 34,
   "metadata": {
    "collapsed": false
   },
   "outputs": [],
   "source": [
    "soup_group_log = np.log(soup_group + 1)"
   ]
  },
  {
   "cell_type": "code",
   "execution_count": 35,
   "metadata": {
    "collapsed": false
   },
   "outputs": [
    {
     "data": {
      "text/html": [
       "<div style=\"max-height:1000px;max-width:1500px;overflow:auto;\">\n",
       "<table border=\"1\" class=\"dataframe\">\n",
       "  <thead>\n",
       "    <tr style=\"text-align: right;\">\n",
       "      <th>item</th>\n",
       "      <th>11950880</th>\n",
       "      <th>11950902</th>\n",
       "      <th>11950912</th>\n",
       "      <th>11951016</th>\n",
       "      <th>11951055</th>\n",
       "      <th>11951057</th>\n",
       "      <th>11951146</th>\n",
       "      <th>11951185</th>\n",
       "      <th>11951230</th>\n",
       "      <th>11951248</th>\n",
       "      <th>...</th>\n",
       "      <th>101384637</th>\n",
       "      <th>101664400</th>\n",
       "      <th>101769558</th>\n",
       "      <th>101769573</th>\n",
       "      <th>101769588</th>\n",
       "      <th>101769603</th>\n",
       "      <th>101769618</th>\n",
       "      <th>102373968</th>\n",
       "      <th>102440866</th>\n",
       "      <th>102440884</th>\n",
       "    </tr>\n",
       "    <tr>\n",
       "      <th>org</th>\n",
       "      <th></th>\n",
       "      <th></th>\n",
       "      <th></th>\n",
       "      <th></th>\n",
       "      <th></th>\n",
       "      <th></th>\n",
       "      <th></th>\n",
       "      <th></th>\n",
       "      <th></th>\n",
       "      <th></th>\n",
       "      <th></th>\n",
       "      <th></th>\n",
       "      <th></th>\n",
       "      <th></th>\n",
       "      <th></th>\n",
       "      <th></th>\n",
       "      <th></th>\n",
       "      <th></th>\n",
       "      <th></th>\n",
       "      <th></th>\n",
       "      <th></th>\n",
       "    </tr>\n",
       "  </thead>\n",
       "  <tbody>\n",
       "    <tr>\n",
       "      <th>649419</th>\n",
       "      <td>0</td>\n",
       "      <td>0</td>\n",
       "      <td>0</td>\n",
       "      <td>0</td>\n",
       "      <td>0</td>\n",
       "      <td>0</td>\n",
       "      <td>0</td>\n",
       "      <td>0</td>\n",
       "      <td>0</td>\n",
       "      <td>0</td>\n",
       "      <td>...</td>\n",
       "      <td>0</td>\n",
       "      <td>0</td>\n",
       "      <td>0</td>\n",
       "      <td>0</td>\n",
       "      <td>0</td>\n",
       "      <td>0</td>\n",
       "      <td>0</td>\n",
       "      <td>0</td>\n",
       "      <td>0</td>\n",
       "      <td>0</td>\n",
       "    </tr>\n",
       "    <tr>\n",
       "      <th>649421</th>\n",
       "      <td>0</td>\n",
       "      <td>0</td>\n",
       "      <td>0</td>\n",
       "      <td>0</td>\n",
       "      <td>0</td>\n",
       "      <td>0</td>\n",
       "      <td>0</td>\n",
       "      <td>0</td>\n",
       "      <td>0</td>\n",
       "      <td>0</td>\n",
       "      <td>...</td>\n",
       "      <td>0</td>\n",
       "      <td>0</td>\n",
       "      <td>0</td>\n",
       "      <td>0</td>\n",
       "      <td>0</td>\n",
       "      <td>0</td>\n",
       "      <td>0</td>\n",
       "      <td>0</td>\n",
       "      <td>0</td>\n",
       "      <td>0</td>\n",
       "    </tr>\n",
       "    <tr>\n",
       "      <th>649423</th>\n",
       "      <td>0</td>\n",
       "      <td>0</td>\n",
       "      <td>0</td>\n",
       "      <td>0</td>\n",
       "      <td>0</td>\n",
       "      <td>0</td>\n",
       "      <td>0</td>\n",
       "      <td>0</td>\n",
       "      <td>0</td>\n",
       "      <td>0</td>\n",
       "      <td>...</td>\n",
       "      <td>0</td>\n",
       "      <td>0</td>\n",
       "      <td>0</td>\n",
       "      <td>0</td>\n",
       "      <td>0</td>\n",
       "      <td>0</td>\n",
       "      <td>0</td>\n",
       "      <td>0</td>\n",
       "      <td>0</td>\n",
       "      <td>0</td>\n",
       "    </tr>\n",
       "    <tr>\n",
       "      <th>649428</th>\n",
       "      <td>0</td>\n",
       "      <td>0</td>\n",
       "      <td>0</td>\n",
       "      <td>0</td>\n",
       "      <td>0</td>\n",
       "      <td>0</td>\n",
       "      <td>0</td>\n",
       "      <td>0</td>\n",
       "      <td>0</td>\n",
       "      <td>0</td>\n",
       "      <td>...</td>\n",
       "      <td>0</td>\n",
       "      <td>0</td>\n",
       "      <td>0</td>\n",
       "      <td>0</td>\n",
       "      <td>0</td>\n",
       "      <td>0</td>\n",
       "      <td>0</td>\n",
       "      <td>0</td>\n",
       "      <td>0</td>\n",
       "      <td>0</td>\n",
       "    </tr>\n",
       "    <tr>\n",
       "      <th>649433</th>\n",
       "      <td>0</td>\n",
       "      <td>0</td>\n",
       "      <td>0</td>\n",
       "      <td>0</td>\n",
       "      <td>0</td>\n",
       "      <td>0</td>\n",
       "      <td>0</td>\n",
       "      <td>0</td>\n",
       "      <td>0</td>\n",
       "      <td>0</td>\n",
       "      <td>...</td>\n",
       "      <td>0</td>\n",
       "      <td>0</td>\n",
       "      <td>0</td>\n",
       "      <td>0</td>\n",
       "      <td>0</td>\n",
       "      <td>0</td>\n",
       "      <td>0</td>\n",
       "      <td>0</td>\n",
       "      <td>0</td>\n",
       "      <td>0</td>\n",
       "    </tr>\n",
       "  </tbody>\n",
       "</table>\n",
       "<p>5 rows × 2374 columns</p>\n",
       "</div>"
      ],
      "text/plain": [
       "item    11950880   11950902   11950912   11951016   11951055   11951057   \\\n",
       "org                                                                        \n",
       "649419          0          0          0          0          0          0   \n",
       "649421          0          0          0          0          0          0   \n",
       "649423          0          0          0          0          0          0   \n",
       "649428          0          0          0          0          0          0   \n",
       "649433          0          0          0          0          0          0   \n",
       "\n",
       "item    11951146   11951185   11951230   11951248     ...      101384637  \\\n",
       "org                                                   ...                  \n",
       "649419          0          0          0          0    ...              0   \n",
       "649421          0          0          0          0    ...              0   \n",
       "649423          0          0          0          0    ...              0   \n",
       "649428          0          0          0          0    ...              0   \n",
       "649433          0          0          0          0    ...              0   \n",
       "\n",
       "item    101664400  101769558  101769573  101769588  101769603  101769618  \\\n",
       "org                                                                        \n",
       "649419          0          0          0          0          0          0   \n",
       "649421          0          0          0          0          0          0   \n",
       "649423          0          0          0          0          0          0   \n",
       "649428          0          0          0          0          0          0   \n",
       "649433          0          0          0          0          0          0   \n",
       "\n",
       "item    102373968  102440866  102440884  \n",
       "org                                      \n",
       "649419          0          0          0  \n",
       "649421          0          0          0  \n",
       "649423          0          0          0  \n",
       "649428          0          0          0  \n",
       "649433          0          0          0  \n",
       "\n",
       "[5 rows x 2374 columns]"
      ]
     },
     "execution_count": 35,
     "metadata": {},
     "output_type": "execute_result"
    }
   ],
   "source": [
    "soup_group_log.head()"
   ]
  },
  {
   "cell_type": "markdown",
   "metadata": {},
   "source": [
    "# Distance function for org_id=649419\n",
    "\n",
    "This is slow. Todo: make faster using numpy arrays\n",
    "\n",
    "Look for orgs similar to org_id=649419"
   ]
  },
  {
   "cell_type": "code",
   "execution_count": 36,
   "metadata": {
    "collapsed": false
   },
   "outputs": [],
   "source": [
    "def calc_distance(df, org_id):\n",
    "    rows = soup_group_log.index\n",
    "\n",
    "    dist_euc = []\n",
    "    dist_man = []\n",
    "    \n",
    "    for x in rows:\n",
    "        dist_euc.append([x, float(euclidean_distances(df.loc[org_id], df.loc[x]))])\n",
    "        dist_man.append([x, float(manhattan_distances(df.loc[org_id], df.loc[x]))])\n",
    "    \n",
    "    return dist_euc, dist_man"
   ]
  },
  {
   "cell_type": "code",
   "execution_count": 37,
   "metadata": {
    "collapsed": false
   },
   "outputs": [],
   "source": [
    "dist_euc, dist_man = calc_distance(df=soup_group_log, org_id=649419)"
   ]
  },
  {
   "cell_type": "markdown",
   "metadata": {},
   "source": [
    "# Return top 100 similar orgs by distance measure"
   ]
  },
  {
   "cell_type": "code",
   "execution_count": 60,
   "metadata": {
    "collapsed": false
   },
   "outputs": [
    {
     "data": {
      "text/plain": [
       "[[660324, 0.9802581434685472],\n",
       " [668958, 0.9802581434685472],\n",
       " [721071, 0.9802581434685472],\n",
       " [726192, 0.9802581434685472],\n",
       " [753619, 0.9802581434685472],\n",
       " [756159, 0.9802581434685472],\n",
       " [828918, 0.9802581434685472],\n",
       " [837910, 0.9802581434685472],\n",
       " [692702, 1.0608053458243734],\n",
       " [782417, 1.135653968259141]]"
      ]
     },
     "execution_count": 60,
     "metadata": {},
     "output_type": "execute_result"
    }
   ],
   "source": [
    "dist_euc_sort = sorted(dist_euc, key=lambda x: x[1])[1:101] # first value is comparison to self\n",
    "\n",
    "# show top 10\n",
    "dist_euc_sort[:10]"
   ]
  },
  {
   "cell_type": "code",
   "execution_count": 62,
   "metadata": {
    "collapsed": false
   },
   "outputs": [
    {
     "data": {
      "text/plain": [
       "[[660324, 1.3862943611198906],\n",
       " [668958, 1.3862943611198906],\n",
       " [721071, 1.3862943611198906],\n",
       " [726192, 1.3862943611198906],\n",
       " [753619, 1.3862943611198906],\n",
       " [756159, 1.3862943611198906],\n",
       " [828918, 1.3862943611198906],\n",
       " [837910, 1.3862943611198906],\n",
       " [692702, 1.791759469228055],\n",
       " [649597, 2.0794415416798357]]"
      ]
     },
     "execution_count": 62,
     "metadata": {},
     "output_type": "execute_result"
    }
   ],
   "source": [
    "dist_man_sort = sorted(dist_man, key=lambda x: x[1])[1:101] # first value is comparison to self\n",
    "\n",
    "# show top 10\n",
    "dist_man_sort[:10]"
   ]
  },
  {
   "cell_type": "code",
   "execution_count": 40,
   "metadata": {
    "collapsed": false
   },
   "outputs": [],
   "source": [
    "def calc_top10_org_weights(df, distance_val, sorted_distance_val):\n",
    "    max_man_dist = max(zip(*distance_val)[1])\n",
    "\n",
    "    weight_vector = []\n",
    "\n",
    "    for x in sorted_distance_val[1:]:\n",
    "        weight = 1 - x[1]/max_man_dist\n",
    "        weight_vector.append(weight * df.loc[[x[0]]].values[0])\n",
    "        \n",
    "    return weight_vector"
   ]
  },
  {
   "cell_type": "code",
   "execution_count": 63,
   "metadata": {
    "collapsed": false
   },
   "outputs": [],
   "source": [
    "weight_vector = calc_top10_org_weights(soup_group_log, dist_man, dist_man_sort)"
   ]
  },
  {
   "cell_type": "code",
   "execution_count": 64,
   "metadata": {
    "collapsed": false
   },
   "outputs": [],
   "source": [
    "col_weights = zip(*weight_vector)"
   ]
  },
  {
   "cell_type": "markdown",
   "metadata": {},
   "source": [
    "# All recommended items"
   ]
  },
  {
   "cell_type": "code",
   "execution_count": 65,
   "metadata": {
    "collapsed": false
   },
   "outputs": [],
   "source": [
    "item_similarity = [(k, sum(v)) for k,v in enumerate(col_weights) if sum(v) > 0]"
   ]
  },
  {
   "cell_type": "code",
   "execution_count": 77,
   "metadata": {
    "collapsed": false
   },
   "outputs": [],
   "source": [
    "indices = zip(*item_similarity)[0]"
   ]
  },
  {
   "cell_type": "code",
   "execution_count": 102,
   "metadata": {
    "collapsed": false
   },
   "outputs": [
    {
     "data": {
      "text/plain": [
       "[17871409,\n",
       " 23368086,\n",
       " 34793482,\n",
       " 35127559,\n",
       " 39960918,\n",
       " 39962284,\n",
       " 44490815,\n",
       " 45338113,\n",
       " 45338356,\n",
       " 46544823,\n",
       " 47036069,\n",
       " 56477268]"
      ]
     },
     "execution_count": 102,
     "metadata": {},
     "output_type": "execute_result"
    }
   ],
   "source": [
    "all_recommend_items = [soup_group_log.columns[i] for i in indices]\n",
    "all_recommend_items"
   ]
  },
  {
   "cell_type": "markdown",
   "metadata": {},
   "source": [
    "# Items originally purchased"
   ]
  },
  {
   "cell_type": "code",
   "execution_count": 103,
   "metadata": {
    "collapsed": false
   },
   "outputs": [
    {
     "data": {
      "text/plain": [
       "[39960918, 39962284, 45338113, 46544823, 47036069]"
      ]
     },
     "execution_count": 103,
     "metadata": {},
     "output_type": "execute_result"
    }
   ],
   "source": [
    "already_purchased_items = list(soup_group.loc[649419][soup_group.loc[649419] > 0].index)\n",
    "already_purchased_items"
   ]
  },
  {
   "cell_type": "markdown",
   "metadata": {},
   "source": [
    "#Recommended items not already purchased"
   ]
  },
  {
   "cell_type": "code",
   "execution_count": 105,
   "metadata": {
    "collapsed": false
   },
   "outputs": [
    {
     "data": {
      "text/plain": [
       "[35127559, 34793482, 17871409, 56477268, 23368086, 45338356, 44490815]"
      ]
     },
     "execution_count": 105,
     "metadata": {},
     "output_type": "execute_result"
    }
   ],
   "source": [
    "recommend_items = list(set(all_recommend_items) - set(already_purchased_items))\n",
    "recommend_items"
   ]
  }
 ],
 "metadata": {
  "kernelspec": {
   "display_name": "Python 2",
   "language": "python",
   "name": "python2"
  },
  "language_info": {
   "codemirror_mode": {
    "name": "ipython",
    "version": 2
   },
   "file_extension": ".py",
   "mimetype": "text/x-python",
   "name": "python",
   "nbconvert_exporter": "python",
   "pygments_lexer": "ipython2",
   "version": "2.7.9"
  }
 },
 "nbformat": 4,
 "nbformat_minor": 0
}
