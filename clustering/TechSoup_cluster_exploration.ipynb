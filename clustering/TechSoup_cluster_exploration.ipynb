{
 "metadata": {
  "name": "",
  "signature": "sha256:3741b5c2ae50f3f89431e0fe63d0e835917cdb3d3bd4b07b587e6e55bc90b764"
 },
 "nbformat": 3,
 "nbformat_minor": 0,
 "worksheets": [
  {
   "cells": [
    {
     "cell_type": "code",
     "collapsed": false,
     "input": [
      "%matplotlib inline\n",
      "import numpy as np\n",
      "import pandas as pd\n",
      "import seaborn as sns\n",
      "import matplotlib.pyplot as pl\n",
      "from sklearn import metrics\n",
      "from sklearn.cluster import KMeans\n",
      "from sklearn.ensemble import RandomForestClassifier"
     ],
     "language": "python",
     "metadata": {},
     "outputs": [],
     "prompt_number": 43
    },
    {
     "cell_type": "heading",
     "level": 2,
     "metadata": {},
     "source": [
      "Basic exploration"
     ]
    },
    {
     "cell_type": "code",
     "collapsed": false,
     "input": [
      "df1 = pd.read_csv('techsoup_datakind_sample.csv')"
     ],
     "language": "python",
     "metadata": {},
     "outputs": [],
     "prompt_number": 2
    },
    {
     "cell_type": "code",
     "collapsed": false,
     "input": [
      "df1.head()"
     ],
     "language": "python",
     "metadata": {},
     "outputs": [
      {
       "html": [
        "<div style=\"max-height:1000px;max-width:1500px;overflow:auto;\">\n",
        "<table border=\"1\" class=\"dataframe\">\n",
        "  <thead>\n",
        "    <tr style=\"text-align: right;\">\n",
        "      <th></th>\n",
        "      <th>pri_key</th>\n",
        "      <th>org</th>\n",
        "      <th>city</th>\n",
        "      <th>state</th>\n",
        "      <th>postalcode</th>\n",
        "      <th>country</th>\n",
        "      <th>org_type</th>\n",
        "      <th>org_subtype</th>\n",
        "      <th>budget</th>\n",
        "      <th>reg_date</th>\n",
        "      <th>...</th>\n",
        "      <th>tax_id_number</th>\n",
        "      <th>landing_page</th>\n",
        "      <th>Medium</th>\n",
        "      <th>transaction_date</th>\n",
        "      <th>vendor</th>\n",
        "      <th>item</th>\n",
        "      <th>category</th>\n",
        "      <th>licenses</th>\n",
        "      <th>revenue</th>\n",
        "      <th>value</th>\n",
        "    </tr>\n",
        "  </thead>\n",
        "  <tbody>\n",
        "    <tr>\n",
        "      <th>0</th>\n",
        "      <td> 1</td>\n",
        "      <td> 105872</td>\n",
        "      <td> Villa Rica</td>\n",
        "      <td> GA</td>\n",
        "      <td>      30180</td>\n",
        "      <td> US</td>\n",
        "      <td> 15</td>\n",
        "      <td> 408</td>\n",
        "      <td> 100000</td>\n",
        "      <td> 2002-09-05 10:38:23.483</td>\n",
        "      <td>...</td>\n",
        "      <td> 63-1242259</td>\n",
        "      <td>NaN</td>\n",
        "      <td>NaN</td>\n",
        "      <td> 2010-06-21</td>\n",
        "      <td> 3882</td>\n",
        "      <td> 45200711</td>\n",
        "      <td> NaN</td>\n",
        "      <td>  1</td>\n",
        "      <td> 31</td>\n",
        "      <td>  765</td>\n",
        "    </tr>\n",
        "    <tr>\n",
        "      <th>1</th>\n",
        "      <td> 2</td>\n",
        "      <td> 105872</td>\n",
        "      <td> Villa Rica</td>\n",
        "      <td> GA</td>\n",
        "      <td>      30180</td>\n",
        "      <td> US</td>\n",
        "      <td> 15</td>\n",
        "      <td> 408</td>\n",
        "      <td> 100000</td>\n",
        "      <td> 2002-09-05 10:38:23.483</td>\n",
        "      <td>...</td>\n",
        "      <td> 63-1242259</td>\n",
        "      <td>NaN</td>\n",
        "      <td>NaN</td>\n",
        "      <td> 2010-06-21</td>\n",
        "      <td> 3882</td>\n",
        "      <td> 39959521</td>\n",
        "      <td> NaN</td>\n",
        "      <td> 10</td>\n",
        "      <td> 80</td>\n",
        "      <td> 1990</td>\n",
        "    </tr>\n",
        "    <tr>\n",
        "      <th>2</th>\n",
        "      <td> 3</td>\n",
        "      <td> 105872</td>\n",
        "      <td> Villa Rica</td>\n",
        "      <td> GA</td>\n",
        "      <td>      30180</td>\n",
        "      <td> US</td>\n",
        "      <td> 15</td>\n",
        "      <td> 408</td>\n",
        "      <td> 100000</td>\n",
        "      <td> 2002-09-05 10:38:23.483</td>\n",
        "      <td>...</td>\n",
        "      <td> 63-1242259</td>\n",
        "      <td>NaN</td>\n",
        "      <td>NaN</td>\n",
        "      <td> 2008-02-06</td>\n",
        "      <td> 3892</td>\n",
        "      <td> 23664563</td>\n",
        "      <td> NaN</td>\n",
        "      <td>  1</td>\n",
        "      <td>  5</td>\n",
        "      <td>   40</td>\n",
        "    </tr>\n",
        "    <tr>\n",
        "      <th>3</th>\n",
        "      <td> 4</td>\n",
        "      <td> 105872</td>\n",
        "      <td> Villa Rica</td>\n",
        "      <td> GA</td>\n",
        "      <td>      30180</td>\n",
        "      <td> US</td>\n",
        "      <td> 15</td>\n",
        "      <td> 408</td>\n",
        "      <td> 100000</td>\n",
        "      <td> 2002-09-05 10:38:23.483</td>\n",
        "      <td>...</td>\n",
        "      <td> 63-1242259</td>\n",
        "      <td>NaN</td>\n",
        "      <td>NaN</td>\n",
        "      <td> 2008-02-06</td>\n",
        "      <td> 3892</td>\n",
        "      <td> 20137400</td>\n",
        "      <td> NaN</td>\n",
        "      <td>  1</td>\n",
        "      <td> 15</td>\n",
        "      <td>   60</td>\n",
        "    </tr>\n",
        "    <tr>\n",
        "      <th>4</th>\n",
        "      <td> 5</td>\n",
        "      <td> 105872</td>\n",
        "      <td> Villa Rica</td>\n",
        "      <td> GA</td>\n",
        "      <td>      30180</td>\n",
        "      <td> US</td>\n",
        "      <td> 15</td>\n",
        "      <td> 408</td>\n",
        "      <td> 100000</td>\n",
        "      <td> 2002-09-05 10:38:23.483</td>\n",
        "      <td>...</td>\n",
        "      <td> 63-1242259</td>\n",
        "      <td>NaN</td>\n",
        "      <td>NaN</td>\n",
        "      <td> 2009-11-09</td>\n",
        "      <td> 3882</td>\n",
        "      <td> 39959521</td>\n",
        "      <td> NaN</td>\n",
        "      <td>  4</td>\n",
        "      <td> 32</td>\n",
        "      <td>  796</td>\n",
        "    </tr>\n",
        "  </tbody>\n",
        "</table>\n",
        "<p>5 rows \u00d7 24 columns</p>\n",
        "</div>"
       ],
       "metadata": {},
       "output_type": "pyout",
       "prompt_number": 3,
       "text": [
        "   pri_key     org        city state  postalcode country  org_type  \\\n",
        "0        1  105872  Villa Rica    GA       30180      US        15   \n",
        "1        2  105872  Villa Rica    GA       30180      US        15   \n",
        "2        3  105872  Villa Rica    GA       30180      US        15   \n",
        "3        4  105872  Villa Rica    GA       30180      US        15   \n",
        "4        5  105872  Villa Rica    GA       30180      US        15   \n",
        "\n",
        "  org_subtype  budget                 reg_date  ...    tax_id_number  \\\n",
        "0         408  100000  2002-09-05 10:38:23.483  ...       63-1242259   \n",
        "1         408  100000  2002-09-05 10:38:23.483  ...       63-1242259   \n",
        "2         408  100000  2002-09-05 10:38:23.483  ...       63-1242259   \n",
        "3         408  100000  2002-09-05 10:38:23.483  ...       63-1242259   \n",
        "4         408  100000  2002-09-05 10:38:23.483  ...       63-1242259   \n",
        "\n",
        "   landing_page Medium  transaction_date vendor      item  category licenses  \\\n",
        "0           NaN    NaN        2010-06-21   3882  45200711       NaN        1   \n",
        "1           NaN    NaN        2010-06-21   3882  39959521       NaN       10   \n",
        "2           NaN    NaN        2008-02-06   3892  23664563       NaN        1   \n",
        "3           NaN    NaN        2008-02-06   3892  20137400       NaN        1   \n",
        "4           NaN    NaN        2009-11-09   3882  39959521       NaN        4   \n",
        "\n",
        "   revenue  value  \n",
        "0       31    765  \n",
        "1       80   1990  \n",
        "2        5     40  \n",
        "3       15     60  \n",
        "4       32    796  \n",
        "\n",
        "[5 rows x 24 columns]"
       ]
      }
     ],
     "prompt_number": 3
    },
    {
     "cell_type": "code",
     "collapsed": false,
     "input": [
      "df1.columns"
     ],
     "language": "python",
     "metadata": {},
     "outputs": [
      {
       "metadata": {},
       "output_type": "pyout",
       "prompt_number": 4,
       "text": [
        "Index([u'pri_key', u'org', u'city', u'state', u'postalcode', u'country', u'org_type', u'org_subtype', u'budget', u'reg_date', u'contact', u'role', u'role_description', u'order_num', u'tax_id_number', u'landing_page', u'Medium', u'transaction_date', u'vendor', u'item', u'category', u'licenses', u'revenue', u'value'], dtype='object')"
       ]
      }
     ],
     "prompt_number": 4
    },
    {
     "cell_type": "code",
     "collapsed": false,
     "input": [
      "df1.describe()"
     ],
     "language": "python",
     "metadata": {},
     "outputs": [
      {
       "html": [
        "<div style=\"max-height:1000px;max-width:1500px;overflow:auto;\">\n",
        "<table border=\"1\" class=\"dataframe\">\n",
        "  <thead>\n",
        "    <tr style=\"text-align: right;\">\n",
        "      <th></th>\n",
        "      <th>pri_key</th>\n",
        "      <th>org</th>\n",
        "      <th>org_type</th>\n",
        "      <th>budget</th>\n",
        "      <th>contact</th>\n",
        "      <th>role</th>\n",
        "      <th>order_num</th>\n",
        "      <th>landing_page</th>\n",
        "      <th>Medium</th>\n",
        "      <th>vendor</th>\n",
        "      <th>item</th>\n",
        "      <th>licenses</th>\n",
        "      <th>revenue</th>\n",
        "      <th>value</th>\n",
        "    </tr>\n",
        "  </thead>\n",
        "  <tbody>\n",
        "    <tr>\n",
        "      <th>count</th>\n",
        "      <td>    1999.000000</td>\n",
        "      <td>   1999.000000</td>\n",
        "      <td> 1999.000000</td>\n",
        "      <td>     1989.000000</td>\n",
        "      <td>   1272.000000</td>\n",
        "      <td> 1272.000000</td>\n",
        "      <td>    1999.000000</td>\n",
        "      <td>  0</td>\n",
        "      <td>  0</td>\n",
        "      <td> 1999.000000</td>\n",
        "      <td> 1.999000e+03</td>\n",
        "      <td> 1999.000000</td>\n",
        "      <td> 1999.000000</td>\n",
        "      <td>  1999.000000</td>\n",
        "    </tr>\n",
        "    <tr>\n",
        "      <th>mean</th>\n",
        "      <td>  970773.739870</td>\n",
        "      <td> 295784.271136</td>\n",
        "      <td>   10.153077</td>\n",
        "      <td>  1197617.742081</td>\n",
        "      <td> 311157.274371</td>\n",
        "      <td>   23.810535</td>\n",
        "      <td>  609813.671836</td>\n",
        "      <td>NaN</td>\n",
        "      <td>NaN</td>\n",
        "      <td> 3993.629315</td>\n",
        "      <td> 3.281991e+07</td>\n",
        "      <td>    5.825913</td>\n",
        "      <td>  115.253877</td>\n",
        "      <td>  2161.124297</td>\n",
        "    </tr>\n",
        "    <tr>\n",
        "      <th>std</th>\n",
        "      <td>  312827.299972</td>\n",
        "      <td> 211328.244643</td>\n",
        "      <td>    6.614555</td>\n",
        "      <td>  3264809.255861</td>\n",
        "      <td> 241520.775427</td>\n",
        "      <td>    7.305373</td>\n",
        "      <td>  353748.678478</td>\n",
        "      <td>NaN</td>\n",
        "      <td>NaN</td>\n",
        "      <td>  247.774800</td>\n",
        "      <td> 1.933972e+07</td>\n",
        "      <td>   12.201581</td>\n",
        "      <td>  258.256534</td>\n",
        "      <td>  5094.724802</td>\n",
        "    </tr>\n",
        "    <tr>\n",
        "      <th>min</th>\n",
        "      <td>       1.000000</td>\n",
        "      <td>  89262.000000</td>\n",
        "      <td>    1.000000</td>\n",
        "      <td>        0.000000</td>\n",
        "      <td>  13241.000000</td>\n",
        "      <td>   11.000000</td>\n",
        "      <td>   82567.000000</td>\n",
        "      <td>NaN</td>\n",
        "      <td>NaN</td>\n",
        "      <td> 3865.000000</td>\n",
        "      <td> 1.195079e+07</td>\n",
        "      <td>  -44.000000</td>\n",
        "      <td> -880.000000</td>\n",
        "      <td>-21956.000000</td>\n",
        "    </tr>\n",
        "    <tr>\n",
        "      <th>25%</th>\n",
        "      <td> 1070946.500000</td>\n",
        "      <td> 112364.000000</td>\n",
        "      <td>    4.000000</td>\n",
        "      <td>    62826.000000</td>\n",
        "      <td>  78686.000000</td>\n",
        "      <td>   16.000000</td>\n",
        "      <td>  311146.500000</td>\n",
        "      <td>NaN</td>\n",
        "      <td>NaN</td>\n",
        "      <td> 3882.000000</td>\n",
        "      <td> 1.493190e+07</td>\n",
        "      <td>    1.000000</td>\n",
        "      <td>   23.000000</td>\n",
        "      <td>   398.000000</td>\n",
        "    </tr>\n",
        "    <tr>\n",
        "      <th>50%</th>\n",
        "      <td> 1071446.000000</td>\n",
        "      <td> 243747.000000</td>\n",
        "      <td>   12.000000</td>\n",
        "      <td>   294120.000000</td>\n",
        "      <td> 245370.000000</td>\n",
        "      <td>   26.000000</td>\n",
        "      <td>  545189.000000</td>\n",
        "      <td>NaN</td>\n",
        "      <td>NaN</td>\n",
        "      <td> 3882.000000</td>\n",
        "      <td> 2.812446e+07</td>\n",
        "      <td>    1.000000</td>\n",
        "      <td>   48.000000</td>\n",
        "      <td>   799.950000</td>\n",
        "    </tr>\n",
        "    <tr>\n",
        "      <th>75%</th>\n",
        "      <td> 1071945.500000</td>\n",
        "      <td> 414279.000000</td>\n",
        "      <td>   15.000000</td>\n",
        "      <td>  1070000.000000</td>\n",
        "      <td> 489375.000000</td>\n",
        "      <td>   29.000000</td>\n",
        "      <td>  885219.000000</td>\n",
        "      <td>NaN</td>\n",
        "      <td>NaN</td>\n",
        "      <td> 3892.000000</td>\n",
        "      <td> 4.520067e+07</td>\n",
        "      <td>    5.000000</td>\n",
        "      <td>  108.500000</td>\n",
        "      <td>  1799.000000</td>\n",
        "    </tr>\n",
        "    <tr>\n",
        "      <th>max</th>\n",
        "      <td> 1072445.000000</td>\n",
        "      <td> 980815.000000</td>\n",
        "      <td>   22.000000</td>\n",
        "      <td> 36648500.000000</td>\n",
        "      <td> 980809.000000</td>\n",
        "      <td>   35.000000</td>\n",
        "      <td> 1346249.000000</td>\n",
        "      <td>NaN</td>\n",
        "      <td>NaN</td>\n",
        "      <td> 4774.000000</td>\n",
        "      <td> 1.013836e+08</td>\n",
        "      <td>  100.000000</td>\n",
        "      <td> 5980.000000</td>\n",
        "      <td> 82484.000000</td>\n",
        "    </tr>\n",
        "  </tbody>\n",
        "</table>\n",
        "</div>"
       ],
       "metadata": {},
       "output_type": "pyout",
       "prompt_number": 5,
       "text": [
        "              pri_key            org     org_type           budget  \\\n",
        "count     1999.000000    1999.000000  1999.000000      1989.000000   \n",
        "mean    970773.739870  295784.271136    10.153077   1197617.742081   \n",
        "std     312827.299972  211328.244643     6.614555   3264809.255861   \n",
        "min          1.000000   89262.000000     1.000000         0.000000   \n",
        "25%    1070946.500000  112364.000000     4.000000     62826.000000   \n",
        "50%    1071446.000000  243747.000000    12.000000    294120.000000   \n",
        "75%    1071945.500000  414279.000000    15.000000   1070000.000000   \n",
        "max    1072445.000000  980815.000000    22.000000  36648500.000000   \n",
        "\n",
        "             contact         role       order_num  landing_page  Medium  \\\n",
        "count    1272.000000  1272.000000     1999.000000             0       0   \n",
        "mean   311157.274371    23.810535   609813.671836           NaN     NaN   \n",
        "std    241520.775427     7.305373   353748.678478           NaN     NaN   \n",
        "min     13241.000000    11.000000    82567.000000           NaN     NaN   \n",
        "25%     78686.000000    16.000000   311146.500000           NaN     NaN   \n",
        "50%    245370.000000    26.000000   545189.000000           NaN     NaN   \n",
        "75%    489375.000000    29.000000   885219.000000           NaN     NaN   \n",
        "max    980809.000000    35.000000  1346249.000000           NaN     NaN   \n",
        "\n",
        "            vendor          item     licenses      revenue         value  \n",
        "count  1999.000000  1.999000e+03  1999.000000  1999.000000   1999.000000  \n",
        "mean   3993.629315  3.281991e+07     5.825913   115.253877   2161.124297  \n",
        "std     247.774800  1.933972e+07    12.201581   258.256534   5094.724802  \n",
        "min    3865.000000  1.195079e+07   -44.000000  -880.000000 -21956.000000  \n",
        "25%    3882.000000  1.493190e+07     1.000000    23.000000    398.000000  \n",
        "50%    3882.000000  2.812446e+07     1.000000    48.000000    799.950000  \n",
        "75%    3892.000000  4.520067e+07     5.000000   108.500000   1799.000000  \n",
        "max    4774.000000  1.013836e+08   100.000000  5980.000000  82484.000000  "
       ]
      }
     ],
     "prompt_number": 5
    },
    {
     "cell_type": "code",
     "collapsed": false,
     "input": [
      "# look at datatypes\n",
      "for column in df1.columns:\n",
      "    try:\n",
      "        print column, '\\t', len(df1[column].dropna().drop_duplicates()), '\\t', df1[column].dtype\n",
      "    except Exception, e:\n",
      "        print "
     ],
     "language": "python",
     "metadata": {},
     "outputs": [
      {
       "output_type": "stream",
       "stream": "stdout",
       "text": [
        "pri_key \t1999"
       ]
      },
      {
       "output_type": "stream",
       "stream": "stdout",
       "text": [
        " \tint64\n",
        "org \t336 \tint64\n",
        "city \t301 \tobject\n",
        "state \t70 \tobject\n",
        "postalcode \t351 \tobject\n",
        "country \t24 \tobject\n",
        "org_type \t16 \tint64\n",
        "org_subtype \t90 \tobject\n",
        "budget \t206 \tfloat64\n",
        "reg_date \t336 \tobject\n",
        "contact \t190 \tfloat64\n",
        "role \t9 \tfloat64\n",
        "role_description \t9 \tobject\n",
        "order_num \t1147 \tint64\n",
        "tax_id_number \t326 \tobject\n",
        "landing_page \t0 \tfloat64\n",
        "Medium \t0 \tfloat64\n",
        "transaction_date \t879 \tobject\n",
        "vendor \t43 \tint64\n",
        "item \t555 \tint64\n",
        "category \t25 \tobject\n",
        "licenses \t46 \tint64\n",
        "revenue \t238 \tfloat64\n",
        "value \t538 \tfloat64\n"
       ]
      }
     ],
     "prompt_number": 13
    },
    {
     "cell_type": "code",
     "collapsed": false,
     "input": [
      "dfs = df1[['org', 'org_type', 'budget', 'contact', 'role', 'order_num', 'vendor', 'item', 'licenses', 'revenue', 'value']]"
     ],
     "language": "python",
     "metadata": {},
     "outputs": [],
     "prompt_number": 14
    },
    {
     "cell_type": "code",
     "collapsed": false,
     "input": [
      "len(dfs.dropna()) # complete datasets out of 2000 rows"
     ],
     "language": "python",
     "metadata": {},
     "outputs": [
      {
       "metadata": {},
       "output_type": "pyout",
       "prompt_number": 15,
       "text": [
        "1272"
       ]
      }
     ],
     "prompt_number": 15
    },
    {
     "cell_type": "markdown",
     "metadata": {},
     "source": [
      "Load the entire raw dataset (400MB)"
     ]
    },
    {
     "cell_type": "code",
     "collapsed": false,
     "input": [
      "df = pd.read_csv('techsoup_datakind_details_wide.csv')"
     ],
     "language": "python",
     "metadata": {},
     "outputs": [
      {
       "output_type": "stream",
       "stream": "stderr",
       "text": [
        "/Users/sxwang/anaconda/lib/python2.7/site-packages/pandas/io/parsers.py:1159: DtypeWarning: Columns (8) have mixed types. Specify dtype option on import or set low_memory=False.\n",
        "  data = self._reader.read(nrows)\n"
       ]
      }
     ],
     "prompt_number": 16
    },
    {
     "cell_type": "heading",
     "level": 2,
     "metadata": {},
     "source": [
      "Group transactions by category for each org"
     ]
    },
    {
     "cell_type": "code",
     "collapsed": false,
     "input": [
      "print df['category'].dropna().drop_duplicates()\n",
      "print len(df['category'].dropna().drop_duplicates())"
     ],
     "language": "python",
     "metadata": {},
     "outputs": [
      {
       "output_type": "stream",
       "stream": "stdout",
       "text": [
        "9                         desktop-publishing\n",
        "59                           audio-and-video\n",
        "79              accounting-and-finance-tools\n",
        "81                            online-courses\n",
        "85                        backup-and-restore\n",
        "118                desktop-operating-systems\n",
        "164              data-and-privacy-protection\n",
        "200      constituent-relationship-management\n",
        "201                     donations-and-grants\n",
        "217                      collaboration-tools\n",
        "218         refurbished-desktops-and-laptops\n",
        "233                       project-management\n",
        "240                 server-operating-systems\n",
        "283                         network-hardware\n",
        "300                            hr-management\n",
        "314                   research-and-analytics\n",
        "337                                databases\n",
        "446                                    email\n",
        "599                           graphic-design\n",
        "679                            reduce-travel\n",
        "790                     software-development\n",
        "867                        server-management\n",
        "915             mobile-software-and-services\n",
        "1551            virus-and-malware-protection\n",
        "1870                             it-services\n",
        "2029                              e-commerce\n",
        "2385         payment-and-donation-processing\n",
        "4259              content-management-systems\n",
        "4473                    refurbished-monitors\n",
        "4507                          mobile-devices\n",
        "4553                        office-equipment\n",
        "5798                                 godaddy\n",
        "9457                       business-planning\n",
        "12747            infrastructure-as-a-service\n",
        "20296                        mobile-websites\n",
        "64868                   volunteer-management\n",
        "82832                     online-fundraising\n",
        "Name: category, dtype: object\n",
        "37"
       ]
      },
      {
       "output_type": "stream",
       "stream": "stdout",
       "text": [
        "\n"
       ]
      }
     ],
     "prompt_number": 17
    },
    {
     "cell_type": "code",
     "collapsed": false,
     "input": [
      "g = df.groupby('category')"
     ],
     "language": "python",
     "metadata": {},
     "outputs": [],
     "prompt_number": 18
    },
    {
     "cell_type": "code",
     "collapsed": false,
     "input": [
      "dfg = g['item'].aggregate(len)"
     ],
     "language": "python",
     "metadata": {},
     "outputs": [],
     "prompt_number": 19
    },
    {
     "cell_type": "code",
     "collapsed": false,
     "input": [
      "# count of orders by product category, omitting nulls\n",
      "dfg.order(ascending=False).plot(kind='bar')"
     ],
     "language": "python",
     "metadata": {},
     "outputs": [
      {
       "metadata": {},
       "output_type": "pyout",
       "prompt_number": 20,
       "text": [
        "<matplotlib.axes._subplots.AxesSubplot at 0x126e48810>"
       ]
      },
      {
       "metadata": {},
       "output_type": "display_data",
       "png": "[encoded data removed]",
       "text": [
        "<matplotlib.figure.Figure at 0x126e484d0>"
       ]
      }
     ],
     "prompt_number": 20
    },
    {
     "cell_type": "markdown",
     "metadata": {},
     "source": [
      "Top 10 categories"
     ]
    },
    {
     "cell_type": "code",
     "collapsed": false,
     "input": [
      "top10cat = dfg.order(ascending=False).head(10)"
     ],
     "language": "python",
     "metadata": {},
     "outputs": [],
     "prompt_number": 21
    },
    {
     "cell_type": "code",
     "collapsed": false,
     "input": [
      "top10cat.index"
     ],
     "language": "python",
     "metadata": {},
     "outputs": [
      {
       "metadata": {},
       "output_type": "pyout",
       "prompt_number": 22,
       "text": [
        "Index([u'desktop-publishing', u'accounting-and-finance-tools', u'desktop-operating-systems', u'data-and-privacy-protection', u'backup-and-restore', u'collaboration-tools', u'server-operating-systems', u'audio-and-video', u'project-management', u'databases'], dtype='object')"
       ]
      }
     ],
     "prompt_number": 22
    },
    {
     "cell_type": "code",
     "collapsed": false,
     "input": [
      "# take top 10 categories, bin everything else into 'other'. throw away rows with no category\n",
      "dfs = df.dropna(subset=['category'])\n",
      "dfs['category_short'] = map(lambda x: x if x in top10cat else 'other', dfs['category'])"
     ],
     "language": "python",
     "metadata": {},
     "outputs": [
      {
       "output_type": "stream",
       "stream": "stderr",
       "text": [
        "-c:3: SettingWithCopyWarning: \n",
        "A value is trying to be set on a copy of a slice from a DataFrame.\n",
        "Try using .loc[row_indexer,col_indexer] = value instead\n",
        "\n",
        "See the the caveats in the documentation: http://pandas.pydata.org/pandas-docs/stable/indexing.html#indexing-view-versus-copy\n"
       ]
      }
     ],
     "prompt_number": 23
    },
    {
     "cell_type": "code",
     "collapsed": false,
     "input": [
      "len(dfs)"
     ],
     "language": "python",
     "metadata": {},
     "outputs": [
      {
       "metadata": {},
       "output_type": "pyout",
       "prompt_number": 24,
       "text": [
        "497033"
       ]
      }
     ],
     "prompt_number": 24
    },
    {
     "cell_type": "code",
     "collapsed": false,
     "input": [
      "dfs2 = dfs[['org', 'category_short', 'item']]"
     ],
     "language": "python",
     "metadata": {},
     "outputs": [],
     "prompt_number": 25
    },
    {
     "cell_type": "code",
     "collapsed": false,
     "input": [
      "g2 = dfs2.groupby(['org', 'category_short'], as_index=False)\n",
      "dfg2 = g2.aggregate(len)"
     ],
     "language": "python",
     "metadata": {},
     "outputs": [],
     "prompt_number": 26
    },
    {
     "cell_type": "code",
     "collapsed": false,
     "input": [
      "dfcat = pd.pivot_table(dfg2, values='item', index=['org'], columns=['category_short'], aggfunc=np.sum).fillna(0)"
     ],
     "language": "python",
     "metadata": {},
     "outputs": [],
     "prompt_number": 29
    },
    {
     "cell_type": "code",
     "collapsed": false,
     "input": [
      "# take subset of columns from original dataset, remove missing categories and duplicates\n",
      "dforg = df.dropna(subset=['category'])[['org', 'city', 'country', 'org_type', 'org_subtype', \\\n",
      "    'budget', 'reg_date']].drop_duplicates()"
     ],
     "language": "python",
     "metadata": {},
     "outputs": [],
     "prompt_number": 30
    },
    {
     "cell_type": "code",
     "collapsed": false,
     "input": [
      "dforg.set_index('org', inplace=True)"
     ],
     "language": "python",
     "metadata": {},
     "outputs": [],
     "prompt_number": 31
    },
    {
     "cell_type": "code",
     "collapsed": false,
     "input": [
      "dforg.head()"
     ],
     "language": "python",
     "metadata": {},
     "outputs": [
      {
       "html": [
        "<div style=\"max-height:1000px;max-width:1500px;overflow:auto;\">\n",
        "<table border=\"1\" class=\"dataframe\">\n",
        "  <thead>\n",
        "    <tr style=\"text-align: right;\">\n",
        "      <th></th>\n",
        "      <th>city</th>\n",
        "      <th>country</th>\n",
        "      <th>org_type</th>\n",
        "      <th>org_subtype</th>\n",
        "      <th>budget</th>\n",
        "      <th>reg_date</th>\n",
        "    </tr>\n",
        "    <tr>\n",
        "      <th>org</th>\n",
        "      <th></th>\n",
        "      <th></th>\n",
        "      <th></th>\n",
        "      <th></th>\n",
        "      <th></th>\n",
        "      <th></th>\n",
        "    </tr>\n",
        "  </thead>\n",
        "  <tbody>\n",
        "    <tr>\n",
        "      <th>105872</th>\n",
        "      <td>     Villa Rica</td>\n",
        "      <td> US</td>\n",
        "      <td> 15</td>\n",
        "      <td> 408</td>\n",
        "      <td>  100000</td>\n",
        "      <td> 2002-09-05 10:38:23.483</td>\n",
        "    </tr>\n",
        "    <tr>\n",
        "      <th>102705</th>\n",
        "      <td>        Oakland</td>\n",
        "      <td> US</td>\n",
        "      <td> 13</td>\n",
        "      <td> 379</td>\n",
        "      <td> 1912000</td>\n",
        "      <td> 2004-11-23 16:11:47.677</td>\n",
        "    </tr>\n",
        "    <tr>\n",
        "      <th>443748</th>\n",
        "      <td>    Kansas City</td>\n",
        "      <td> US</td>\n",
        "      <td> 15</td>\n",
        "      <td> 408</td>\n",
        "      <td>    1000</td>\n",
        "      <td>  2009-09-12 10:17:01.05</td>\n",
        "    </tr>\n",
        "    <tr>\n",
        "      <th>111063</th>\n",
        "      <td>         Newman</td>\n",
        "      <td> US</td>\n",
        "      <td>  3</td>\n",
        "      <td> 009</td>\n",
        "      <td>   55000</td>\n",
        "      <td> 2004-10-19 10:31:29.673</td>\n",
        "    </tr>\n",
        "    <tr>\n",
        "      <th>123036</th>\n",
        "      <td> Salt Lake City</td>\n",
        "      <td> US</td>\n",
        "      <td>  3</td>\n",
        "      <td> 060</td>\n",
        "      <td>  820000</td>\n",
        "      <td> 2002-01-11 09:15:51.077</td>\n",
        "    </tr>\n",
        "  </tbody>\n",
        "</table>\n",
        "</div>"
       ],
       "metadata": {},
       "output_type": "pyout",
       "prompt_number": 32,
       "text": [
        "                  city country  org_type org_subtype   budget  \\\n",
        "org                                                             \n",
        "105872      Villa Rica      US        15         408   100000   \n",
        "102705         Oakland      US        13         379  1912000   \n",
        "443748     Kansas City      US        15         408     1000   \n",
        "111063          Newman      US         3         009    55000   \n",
        "123036  Salt Lake City      US         3         060   820000   \n",
        "\n",
        "                       reg_date  \n",
        "org                              \n",
        "105872  2002-09-05 10:38:23.483  \n",
        "102705  2004-11-23 16:11:47.677  \n",
        "443748   2009-09-12 10:17:01.05  \n",
        "111063  2004-10-19 10:31:29.673  \n",
        "123036  2002-01-11 09:15:51.077  "
       ]
      }
     ],
     "prompt_number": 32
    },
    {
     "cell_type": "code",
     "collapsed": false,
     "input": [
      "# join the 2 tables; filter budget\n",
      "df_org_cat = dfcat.join(dforg)\n",
      "df_org_cat = df_org_cat[ df_org_cat['budget'] != 'undefined' ]\n",
      "df_org_cat['budget'] = df_org_cat['budget'].astype('float')"
     ],
     "language": "python",
     "metadata": {},
     "outputs": [],
     "prompt_number": 33
    },
    {
     "cell_type": "heading",
     "level": 2,
     "metadata": {},
     "source": [
      "Random forest classifier"
     ]
    },
    {
     "cell_type": "code",
     "collapsed": false,
     "input": [
      "# top 10 categories joined with 'other'\n",
      "cat_cols = np.hstack([top10cat.index.values, ['other']]).tolist()"
     ],
     "language": "python",
     "metadata": {},
     "outputs": [],
     "prompt_number": 34
    },
    {
     "cell_type": "code",
     "collapsed": false,
     "input": [
      "rfc = RandomForestClassifier()"
     ],
     "language": "python",
     "metadata": {},
     "outputs": [],
     "prompt_number": 35
    },
    {
     "cell_type": "code",
     "collapsed": false,
     "input": [
      "rfcer = rfc.fit(X=df_org_cat[['org_type', 'budget']].fillna(0), \\\n",
      "        y=df_org_cat[np.hstack([top10cat.index.values, ['other']]).tolist()])"
     ],
     "language": "python",
     "metadata": {},
     "outputs": [],
     "prompt_number": 36
    },
    {
     "cell_type": "code",
     "collapsed": false,
     "input": [
      "rfcer.feature_importances_"
     ],
     "language": "python",
     "metadata": {},
     "outputs": [
      {
       "metadata": {},
       "output_type": "pyout",
       "prompt_number": 37,
       "text": [
        "array([ 0.10101072,  0.89898928])"
       ]
      }
     ],
     "prompt_number": 37
    },
    {
     "cell_type": "markdown",
     "metadata": {},
     "source": [
      "Does this mean 'budget' is a much better predictor than 'org_type'?"
     ]
    },
    {
     "cell_type": "code",
     "collapsed": false,
     "input": [
      "# filter out very large and negative budgets. There are only 6 of those orgs.\n",
      "df_org_cat_bf = df_org_cat[(df_org_cat['budget']>0) & (df_org_cat['budget']<1000000)]"
     ],
     "language": "python",
     "metadata": {},
     "outputs": [],
     "prompt_number": 38
    },
    {
     "cell_type": "code",
     "collapsed": false,
     "input": [
      "# filter out duplicated orgs. There should be only ~5000 of those.\n",
      "df_org_cat_bf['index'] = df_org_cat_bf.index\n",
      "df_bf_uniq = df_org_cat_bf.drop_duplicates(cols='index')\n",
      "del df_bf_uniq['index']"
     ],
     "language": "python",
     "metadata": {},
     "outputs": [],
     "prompt_number": 40
    },
    {
     "cell_type": "code",
     "collapsed": false,
     "input": [
      "len(df_bf_uniq)"
     ],
     "language": "python",
     "metadata": {},
     "outputs": [
      {
       "metadata": {},
       "output_type": "pyout",
       "prompt_number": 41,
       "text": [
        "103079"
       ]
      }
     ],
     "prompt_number": 41
    },
    {
     "cell_type": "code",
     "collapsed": false,
     "input": [
      "# binned by budget; linear scale\n",
      "pl.hist(df_bf_uniq['budget'].values, bins=20)"
     ],
     "language": "python",
     "metadata": {},
     "outputs": [
      {
       "metadata": {},
       "output_type": "pyout",
       "prompt_number": 44,
       "text": [
        "(array([ 33303.,  15613.,   8651.,   7451.,   6238.,   5111.,   3145.,\n",
        "          3509.,   2139.,   1229.,   5032.,   1070.,   1933.,   1036.,\n",
        "          1486.,   1515.,   1624.,    864.,   1353.,    777.]),\n",
        " array([  1.00000000e+00,   5.00009000e+04,   1.00000800e+05,\n",
        "          1.50000700e+05,   2.00000600e+05,   2.50000500e+05,\n",
        "          3.00000400e+05,   3.50000300e+05,   4.00000200e+05,\n",
        "          4.50000100e+05,   5.00000000e+05,   5.49999900e+05,\n",
        "          5.99999800e+05,   6.49999700e+05,   6.99999600e+05,\n",
        "          7.49999500e+05,   7.99999400e+05,   8.49999300e+05,\n",
        "          8.99999200e+05,   9.49999100e+05,   9.99999000e+05]),\n",
        " <a list of 20 Patch objects>)"
       ]
      },
      {
       "metadata": {},
       "output_type": "display_data",
       "png": "[encoded data removed]",
       "text": [
        "<matplotlib.figure.Figure at 0x10a6a4450>"
       ]
      }
     ],
     "prompt_number": 44
    },
    {
     "cell_type": "code",
     "collapsed": false,
     "input": [
      "df_bf_uniq['budget_bin'] = pd.cut(df_bf_uniq['budget'], bins=20, labels=False)"
     ],
     "language": "python",
     "metadata": {},
     "outputs": [],
     "prompt_number": 46
    },
    {
     "cell_type": "code",
     "collapsed": false,
     "input": [
      "df_bf_uniq.head()"
     ],
     "language": "python",
     "metadata": {},
     "outputs": [
      {
       "html": [
        "<div style=\"max-height:1000px;max-width:1500px;overflow:auto;\">\n",
        "<table border=\"1\" class=\"dataframe\">\n",
        "  <thead>\n",
        "    <tr style=\"text-align: right;\">\n",
        "      <th></th>\n",
        "      <th>accounting-and-finance-tools</th>\n",
        "      <th>audio-and-video</th>\n",
        "      <th>backup-and-restore</th>\n",
        "      <th>collaboration-tools</th>\n",
        "      <th>data-and-privacy-protection</th>\n",
        "      <th>databases</th>\n",
        "      <th>desktop-operating-systems</th>\n",
        "      <th>desktop-publishing</th>\n",
        "      <th>other</th>\n",
        "      <th>project-management</th>\n",
        "      <th>server-operating-systems</th>\n",
        "      <th>city</th>\n",
        "      <th>country</th>\n",
        "      <th>org_type</th>\n",
        "      <th>org_subtype</th>\n",
        "      <th>budget</th>\n",
        "      <th>reg_date</th>\n",
        "      <th>budget_bin</th>\n",
        "    </tr>\n",
        "    <tr>\n",
        "      <th>org</th>\n",
        "      <th></th>\n",
        "      <th></th>\n",
        "      <th></th>\n",
        "      <th></th>\n",
        "      <th></th>\n",
        "      <th></th>\n",
        "      <th></th>\n",
        "      <th></th>\n",
        "      <th></th>\n",
        "      <th></th>\n",
        "      <th></th>\n",
        "      <th></th>\n",
        "      <th></th>\n",
        "      <th></th>\n",
        "      <th></th>\n",
        "      <th></th>\n",
        "      <th></th>\n",
        "      <th></th>\n",
        "    </tr>\n",
        "  </thead>\n",
        "  <tbody>\n",
        "    <tr>\n",
        "      <th>88896</th>\n",
        "      <td> 1</td>\n",
        "      <td> 0</td>\n",
        "      <td> 0</td>\n",
        "      <td> 0</td>\n",
        "      <td> 0</td>\n",
        "      <td> 0</td>\n",
        "      <td> 0</td>\n",
        "      <td> 2</td>\n",
        "      <td> 1</td>\n",
        "      <td> 0</td>\n",
        "      <td> 0</td>\n",
        "      <td>        Manassas</td>\n",
        "      <td> US</td>\n",
        "      <td>  3</td>\n",
        "      <td> 090</td>\n",
        "      <td> 100000</td>\n",
        "      <td> 2003-05-12 19:29:06.127</td>\n",
        "      <td>  1</td>\n",
        "    </tr>\n",
        "    <tr>\n",
        "      <th>88900</th>\n",
        "      <td> 4</td>\n",
        "      <td> 0</td>\n",
        "      <td> 0</td>\n",
        "      <td> 0</td>\n",
        "      <td> 0</td>\n",
        "      <td> 0</td>\n",
        "      <td> 0</td>\n",
        "      <td> 3</td>\n",
        "      <td> 0</td>\n",
        "      <td> 0</td>\n",
        "      <td> 1</td>\n",
        "      <td>       Arlington</td>\n",
        "      <td> US</td>\n",
        "      <td>  4</td>\n",
        "      <td> 125</td>\n",
        "      <td> 970000</td>\n",
        "      <td>  2002-11-18 09:06:59.73</td>\n",
        "      <td> 19</td>\n",
        "    </tr>\n",
        "    <tr>\n",
        "      <th>88901</th>\n",
        "      <td> 4</td>\n",
        "      <td> 2</td>\n",
        "      <td> 0</td>\n",
        "      <td> 0</td>\n",
        "      <td> 0</td>\n",
        "      <td> 0</td>\n",
        "      <td> 3</td>\n",
        "      <td> 2</td>\n",
        "      <td> 1</td>\n",
        "      <td> 0</td>\n",
        "      <td> 0</td>\n",
        "      <td>     Foster City</td>\n",
        "      <td> US</td>\n",
        "      <td> 12</td>\n",
        "      <td> 349</td>\n",
        "      <td> 700000</td>\n",
        "      <td> 2004-08-17 12:29:54.683</td>\n",
        "      <td> 14</td>\n",
        "    </tr>\n",
        "    <tr>\n",
        "      <th>88913</th>\n",
        "      <td> 5</td>\n",
        "      <td> 1</td>\n",
        "      <td> 0</td>\n",
        "      <td> 0</td>\n",
        "      <td> 0</td>\n",
        "      <td> 1</td>\n",
        "      <td> 0</td>\n",
        "      <td> 2</td>\n",
        "      <td> 0</td>\n",
        "      <td> 0</td>\n",
        "      <td> 1</td>\n",
        "      <td>      Wilmington</td>\n",
        "      <td> US</td>\n",
        "      <td> 14</td>\n",
        "      <td> 380</td>\n",
        "      <td>  48000</td>\n",
        "      <td> 2004-10-14 09:56:51.427</td>\n",
        "      <td>  0</td>\n",
        "    </tr>\n",
        "    <tr>\n",
        "      <th>88916</th>\n",
        "      <td> 4</td>\n",
        "      <td> 0</td>\n",
        "      <td> 0</td>\n",
        "      <td> 0</td>\n",
        "      <td> 0</td>\n",
        "      <td> 0</td>\n",
        "      <td> 2</td>\n",
        "      <td> 4</td>\n",
        "      <td> 2</td>\n",
        "      <td> 0</td>\n",
        "      <td> 0</td>\n",
        "      <td> Rolling Meadows</td>\n",
        "      <td> US</td>\n",
        "      <td> 12</td>\n",
        "      <td> 349</td>\n",
        "      <td> 250000</td>\n",
        "      <td> 2002-09-12 09:52:35.123</td>\n",
        "      <td>  4</td>\n",
        "    </tr>\n",
        "  </tbody>\n",
        "</table>\n",
        "</div>"
       ],
       "metadata": {},
       "output_type": "pyout",
       "prompt_number": 47,
       "text": [
        "       accounting-and-finance-tools  audio-and-video  backup-and-restore  \\\n",
        "org                                                                        \n",
        "88896                             1                0                   0   \n",
        "88900                             4                0                   0   \n",
        "88901                             4                2                   0   \n",
        "88913                             5                1                   0   \n",
        "88916                             4                0                   0   \n",
        "\n",
        "       collaboration-tools  data-and-privacy-protection  databases  \\\n",
        "org                                                                  \n",
        "88896                    0                            0          0   \n",
        "88900                    0                            0          0   \n",
        "88901                    0                            0          0   \n",
        "88913                    0                            0          1   \n",
        "88916                    0                            0          0   \n",
        "\n",
        "       desktop-operating-systems  desktop-publishing  other  \\\n",
        "org                                                           \n",
        "88896                          0                   2      1   \n",
        "88900                          0                   3      0   \n",
        "88901                          3                   2      1   \n",
        "88913                          0                   2      0   \n",
        "88916                          2                   4      2   \n",
        "\n",
        "       project-management  server-operating-systems             city country  \\\n",
        "org                                                                            \n",
        "88896                   0                         0         Manassas      US   \n",
        "88900                   0                         1        Arlington      US   \n",
        "88901                   0                         0      Foster City      US   \n",
        "88913                   0                         1       Wilmington      US   \n",
        "88916                   0                         0  Rolling Meadows      US   \n",
        "\n",
        "       org_type org_subtype  budget                 reg_date  budget_bin  \n",
        "org                                                                       \n",
        "88896         3         090  100000  2003-05-12 19:29:06.127           1  \n",
        "88900         4         125  970000   2002-11-18 09:06:59.73          19  \n",
        "88901        12         349  700000  2004-08-17 12:29:54.683          14  \n",
        "88913        14         380   48000  2004-10-14 09:56:51.427           0  \n",
        "88916        12         349  250000  2002-09-12 09:52:35.123           4  "
       ]
      }
     ],
     "prompt_number": 47
    },
    {
     "cell_type": "code",
     "collapsed": false,
     "input": [
      "g_budgetbin = df_bf_uniq.groupby(['budget_bin'])"
     ],
     "language": "python",
     "metadata": {},
     "outputs": [],
     "prompt_number": 48
    },
    {
     "cell_type": "code",
     "collapsed": false,
     "input": [
      "df_budget_cat = g_budgetbin.aggregate(sum)[cat_cols]"
     ],
     "language": "python",
     "metadata": {},
     "outputs": [],
     "prompt_number": 49
    },
    {
     "cell_type": "code",
     "collapsed": false,
     "input": [
      "df_budget_cat.head()"
     ],
     "language": "python",
     "metadata": {},
     "outputs": [
      {
       "html": [
        "<div style=\"max-height:1000px;max-width:1500px;overflow:auto;\">\n",
        "<table border=\"1\" class=\"dataframe\">\n",
        "  <thead>\n",
        "    <tr style=\"text-align: right;\">\n",
        "      <th></th>\n",
        "      <th>desktop-publishing</th>\n",
        "      <th>accounting-and-finance-tools</th>\n",
        "      <th>desktop-operating-systems</th>\n",
        "      <th>data-and-privacy-protection</th>\n",
        "      <th>backup-and-restore</th>\n",
        "      <th>collaboration-tools</th>\n",
        "      <th>server-operating-systems</th>\n",
        "      <th>audio-and-video</th>\n",
        "      <th>project-management</th>\n",
        "      <th>databases</th>\n",
        "      <th>other</th>\n",
        "    </tr>\n",
        "    <tr>\n",
        "      <th>budget_bin</th>\n",
        "      <th></th>\n",
        "      <th></th>\n",
        "      <th></th>\n",
        "      <th></th>\n",
        "      <th></th>\n",
        "      <th></th>\n",
        "      <th></th>\n",
        "      <th></th>\n",
        "      <th></th>\n",
        "      <th></th>\n",
        "      <th></th>\n",
        "    </tr>\n",
        "  </thead>\n",
        "  <tbody>\n",
        "    <tr>\n",
        "      <th>0</th>\n",
        "      <td> 31799</td>\n",
        "      <td> 31143</td>\n",
        "      <td> 4490</td>\n",
        "      <td> 2825</td>\n",
        "      <td> 1511</td>\n",
        "      <td> 2054</td>\n",
        "      <td> 1524</td>\n",
        "      <td> 3042</td>\n",
        "      <td> 1739</td>\n",
        "      <td> 1478</td>\n",
        "      <td> 9934</td>\n",
        "    </tr>\n",
        "    <tr>\n",
        "      <th>1</th>\n",
        "      <td> 17601</td>\n",
        "      <td> 15872</td>\n",
        "      <td> 2326</td>\n",
        "      <td> 1590</td>\n",
        "      <td>  883</td>\n",
        "      <td> 1029</td>\n",
        "      <td>  824</td>\n",
        "      <td> 1247</td>\n",
        "      <td>  911</td>\n",
        "      <td>  833</td>\n",
        "      <td> 5176</td>\n",
        "    </tr>\n",
        "    <tr>\n",
        "      <th>2</th>\n",
        "      <td>  9984</td>\n",
        "      <td>  8842</td>\n",
        "      <td> 1294</td>\n",
        "      <td>  844</td>\n",
        "      <td>  488</td>\n",
        "      <td>  524</td>\n",
        "      <td>  494</td>\n",
        "      <td>  696</td>\n",
        "      <td>  441</td>\n",
        "      <td>  401</td>\n",
        "      <td> 2483</td>\n",
        "    </tr>\n",
        "    <tr>\n",
        "      <th>3</th>\n",
        "      <td>  9668</td>\n",
        "      <td>  7666</td>\n",
        "      <td> 1273</td>\n",
        "      <td>  930</td>\n",
        "      <td>  528</td>\n",
        "      <td>  524</td>\n",
        "      <td>  543</td>\n",
        "      <td>  677</td>\n",
        "      <td>  433</td>\n",
        "      <td>  417</td>\n",
        "      <td> 2357</td>\n",
        "    </tr>\n",
        "    <tr>\n",
        "      <th>4</th>\n",
        "      <td>  7841</td>\n",
        "      <td>  5988</td>\n",
        "      <td> 1197</td>\n",
        "      <td>  770</td>\n",
        "      <td>  483</td>\n",
        "      <td>  453</td>\n",
        "      <td>  537</td>\n",
        "      <td>  537</td>\n",
        "      <td>  382</td>\n",
        "      <td>  337</td>\n",
        "      <td> 2319</td>\n",
        "    </tr>\n",
        "  </tbody>\n",
        "</table>\n",
        "</div>"
       ],
       "metadata": {},
       "output_type": "pyout",
       "prompt_number": 50,
       "text": [
        "            desktop-publishing  accounting-and-finance-tools  \\\n",
        "budget_bin                                                     \n",
        "0                        31799                         31143   \n",
        "1                        17601                         15872   \n",
        "2                         9984                          8842   \n",
        "3                         9668                          7666   \n",
        "4                         7841                          5988   \n",
        "\n",
        "            desktop-operating-systems  data-and-privacy-protection  \\\n",
        "budget_bin                                                           \n",
        "0                                4490                         2825   \n",
        "1                                2326                         1590   \n",
        "2                                1294                          844   \n",
        "3                                1273                          930   \n",
        "4                                1197                          770   \n",
        "\n",
        "            backup-and-restore  collaboration-tools  server-operating-systems  \\\n",
        "budget_bin                                                                      \n",
        "0                         1511                 2054                      1524   \n",
        "1                          883                 1029                       824   \n",
        "2                          488                  524                       494   \n",
        "3                          528                  524                       543   \n",
        "4                          483                  453                       537   \n",
        "\n",
        "            audio-and-video  project-management  databases  other  \n",
        "budget_bin                                                         \n",
        "0                      3042                1739       1478   9934  \n",
        "1                      1247                 911        833   5176  \n",
        "2                       696                 441        401   2483  \n",
        "3                       677                 433        417   2357  \n",
        "4                       537                 382        337   2319  "
       ]
      }
     ],
     "prompt_number": 50
    },
    {
     "cell_type": "code",
     "collapsed": false,
     "input": [
      "df_budget_cat['total'] = df_budget_cat.sum(axis=1)"
     ],
     "language": "python",
     "metadata": {},
     "outputs": [],
     "prompt_number": 51
    },
    {
     "cell_type": "code",
     "collapsed": false,
     "input": [
      "for cat in cat_cols:\n",
      "    df_budget_cat[cat] = df_budget_cat[cat]/df_budget_cat['total']"
     ],
     "language": "python",
     "metadata": {},
     "outputs": [],
     "prompt_number": 52
    },
    {
     "cell_type": "markdown",
     "metadata": {},
     "source": [
      "distribution of purchases by category vs budget size. budget is linearly binned from \\$0 to \\$1M."
     ]
    },
    {
     "cell_type": "code",
     "collapsed": false,
     "input": [
      "fig0 = df_budget_cat.plot(y=cat_cols, kind='area', figsize=(8,5))\n",
      "fig0.set_ylabel('fraction of total # transactions')"
     ],
     "language": "python",
     "metadata": {},
     "outputs": [
      {
       "metadata": {},
       "output_type": "pyout",
       "prompt_number": 53,
       "text": [
        "<matplotlib.text.Text at 0x10ae539d0>"
       ]
      },
      {
       "metadata": {},
       "output_type": "display_data",
       "png": "[encoded data removed]",
       "text": [
        "<matplotlib.figure.Figure at 0x10a8ba810>"
       ]
      }
     ],
     "prompt_number": 53
    },
    {
     "cell_type": "code",
     "collapsed": false,
     "input": [
      "fig1 = df_budget_cat.plot(y=cat_cols, kind='line', figsize=(8,5))\n",
      "fig1.set_ylabel('fraction of total # transactions')"
     ],
     "language": "python",
     "metadata": {},
     "outputs": [
      {
       "metadata": {},
       "output_type": "pyout",
       "prompt_number": 54,
       "text": [
        "<matplotlib.text.Text at 0x10c1a03d0>"
       ]
      },
      {
       "metadata": {},
       "output_type": "display_data",
       "png": "[encoded data removed]",
       "text": [
        "<matplotlib.figure.Figure at 0x10a780390>"
       ]
      }
     ],
     "prompt_number": 54
    },
    {
     "cell_type": "code",
     "collapsed": false,
     "input": [
      "# zoom in to the bottom section\n",
      "fig2 = df_budget_cat.plot(y=cat_cols, kind='line', figsize=(8,5))\n",
      "fig2.set_ylim([0, 0.12])"
     ],
     "language": "python",
     "metadata": {},
     "outputs": [
      {
       "metadata": {},
       "output_type": "pyout",
       "prompt_number": 57,
       "text": [
        "(0, 0.12)"
       ]
      },
      {
       "metadata": {},
       "output_type": "display_data",
       "png": "[encoded data removed]",
       "text": [
        "<matplotlib.figure.Figure at 0x10d615f10>"
       ]
      }
     ],
     "prompt_number": 57
    },
    {
     "cell_type": "code",
     "collapsed": false,
     "input": [
      "fig = fig0.get_figure()\n",
      "fig.savefig('category_fraction_by_budget_area.png')\n",
      "fig = fig1.get_figure()\n",
      "fig.savefig('category_fraction_by_budget_line.png')"
     ],
     "language": "python",
     "metadata": {},
     "outputs": [],
     "prompt_number": 395
    }
   ],
   "metadata": {}
  }
 ]
}