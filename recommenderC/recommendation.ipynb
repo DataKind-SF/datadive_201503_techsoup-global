{
 "cells": [
  {
   "cell_type": "code",
   "execution_count": 1,
   "metadata": {
    "collapsed": false
   },
   "outputs": [],
   "source": [
    "import datetime\n",
    "import pandas as pd\n",
    "import numpy as np\n",
    "from sklearn.metrics.pairwise import euclidean_distances\n",
    "from sklearn.metrics.pairwise import manhattan_distances\n",
    "\n",
    "import matplotlib.pyplot as plt\n",
    "pd.options.display.mpl_style = 'default'\n",
    "\n",
    "%matplotlib inline"
   ]
  },
  {
   "cell_type": "code",
   "execution_count": 2,
   "metadata": {
    "collapsed": false
   },
   "outputs": [],
   "source": [
    "df = pd.read_csv(\"datakind_extract_keyfields.csv\", low_memory=False)"
   ]
  },
  {
   "cell_type": "code",
   "execution_count": 3,
   "metadata": {
    "collapsed": false
   },
   "outputs": [
    {
     "data": {
      "text/html": [
       "<div style=\"max-height:1000px;max-width:1500px;overflow:auto;\">\n",
       "<table border=\"1\" class=\"dataframe\">\n",
       "  <thead>\n",
       "    <tr style=\"text-align: right;\">\n",
       "      <th></th>\n",
       "      <th>org</th>\n",
       "      <th>city</th>\n",
       "      <th>state</th>\n",
       "      <th>country</th>\n",
       "      <th>org_type</th>\n",
       "      <th>org_subtype</th>\n",
       "      <th>budget</th>\n",
       "      <th>reg date</th>\n",
       "      <th>contact</th>\n",
       "      <th>role</th>\n",
       "    </tr>\n",
       "  </thead>\n",
       "  <tbody>\n",
       "    <tr>\n",
       "      <th>0</th>\n",
       "      <td>100118</td>\n",
       "      <td>Toledo,</td>\n",
       "      <td>OH</td>\n",
       "      <td>US</td>\n",
       "      <td>5</td>\n",
       "      <td>160</td>\n",
       "      <td>80000</td>\n",
       "      <td>2002-06-20 11:59:29.967</td>\n",
       "      <td>28892</td>\n",
       "      <td>26</td>\n",
       "    </tr>\n",
       "    <tr>\n",
       "      <th>1</th>\n",
       "      <td>100118</td>\n",
       "      <td>Toledo,</td>\n",
       "      <td>OH</td>\n",
       "      <td>US</td>\n",
       "      <td>5</td>\n",
       "      <td>160</td>\n",
       "      <td>80000</td>\n",
       "      <td>2002-06-20 11:59:29.967</td>\n",
       "      <td>28892</td>\n",
       "      <td>26</td>\n",
       "    </tr>\n",
       "    <tr>\n",
       "      <th>2</th>\n",
       "      <td>100118</td>\n",
       "      <td>Toledo,</td>\n",
       "      <td>OH</td>\n",
       "      <td>US</td>\n",
       "      <td>5</td>\n",
       "      <td>160</td>\n",
       "      <td>80000</td>\n",
       "      <td>2002-06-20 11:59:29.967</td>\n",
       "      <td>28892</td>\n",
       "      <td>26</td>\n",
       "    </tr>\n",
       "    <tr>\n",
       "      <th>3</th>\n",
       "      <td>100118</td>\n",
       "      <td>Toledo,</td>\n",
       "      <td>OH</td>\n",
       "      <td>US</td>\n",
       "      <td>5</td>\n",
       "      <td>160</td>\n",
       "      <td>80000</td>\n",
       "      <td>2002-06-20 11:59:29.967</td>\n",
       "      <td>28892</td>\n",
       "      <td>26</td>\n",
       "    </tr>\n",
       "    <tr>\n",
       "      <th>4</th>\n",
       "      <td>100118</td>\n",
       "      <td>Toledo,</td>\n",
       "      <td>OH</td>\n",
       "      <td>US</td>\n",
       "      <td>5</td>\n",
       "      <td>160</td>\n",
       "      <td>80000</td>\n",
       "      <td>2002-06-20 11:59:29.967</td>\n",
       "      <td>28892</td>\n",
       "      <td>26</td>\n",
       "    </tr>\n",
       "    <tr>\n",
       "      <th>5</th>\n",
       "      <td>100118</td>\n",
       "      <td>Toledo,</td>\n",
       "      <td>OH</td>\n",
       "      <td>US</td>\n",
       "      <td>5</td>\n",
       "      <td>160</td>\n",
       "      <td>80000</td>\n",
       "      <td>2002-06-20 11:59:29.967</td>\n",
       "      <td>28892</td>\n",
       "      <td>26</td>\n",
       "    </tr>\n",
       "    <tr>\n",
       "      <th>6</th>\n",
       "      <td>100118</td>\n",
       "      <td>Toledo,</td>\n",
       "      <td>OH</td>\n",
       "      <td>US</td>\n",
       "      <td>5</td>\n",
       "      <td>160</td>\n",
       "      <td>80000</td>\n",
       "      <td>2002-06-20 11:59:29.967</td>\n",
       "      <td>28892</td>\n",
       "      <td>26</td>\n",
       "    </tr>\n",
       "    <tr>\n",
       "      <th>7</th>\n",
       "      <td>100118</td>\n",
       "      <td>Toledo</td>\n",
       "      <td>OH</td>\n",
       "      <td>US</td>\n",
       "      <td>5</td>\n",
       "      <td>160</td>\n",
       "      <td>80000</td>\n",
       "      <td>2002-06-20 11:59:29.967</td>\n",
       "      <td>28892</td>\n",
       "      <td>26</td>\n",
       "    </tr>\n",
       "    <tr>\n",
       "      <th>8</th>\n",
       "      <td>100118</td>\n",
       "      <td>Toledo</td>\n",
       "      <td>OH</td>\n",
       "      <td>US</td>\n",
       "      <td>5</td>\n",
       "      <td>160</td>\n",
       "      <td>80000</td>\n",
       "      <td>2002-06-20 11:59:29.967</td>\n",
       "      <td>28892</td>\n",
       "      <td>26</td>\n",
       "    </tr>\n",
       "    <tr>\n",
       "      <th>9</th>\n",
       "      <td>104574</td>\n",
       "      <td>Grand Junction</td>\n",
       "      <td>CO</td>\n",
       "      <td>US</td>\n",
       "      <td>4</td>\n",
       "      <td>121</td>\n",
       "      <td>230000</td>\n",
       "      <td>2002-12-21 09:37:21.817</td>\n",
       "      <td>47146</td>\n",
       "      <td>16</td>\n",
       "    </tr>\n",
       "  </tbody>\n",
       "</table>\n",
       "</div>"
      ],
      "text/plain": [
       "      org            city state country  org_type org_subtype  budget  \\\n",
       "0  100118         Toledo,    OH      US         5         160   80000   \n",
       "1  100118         Toledo,    OH      US         5         160   80000   \n",
       "2  100118         Toledo,    OH      US         5         160   80000   \n",
       "3  100118         Toledo,    OH      US         5         160   80000   \n",
       "4  100118         Toledo,    OH      US         5         160   80000   \n",
       "5  100118         Toledo,    OH      US         5         160   80000   \n",
       "6  100118         Toledo,    OH      US         5         160   80000   \n",
       "7  100118          Toledo    OH      US         5         160   80000   \n",
       "8  100118          Toledo    OH      US         5         160   80000   \n",
       "9  104574  Grand Junction    CO      US         4         121  230000   \n",
       "\n",
       "                  reg date  contact  role  \n",
       "0  2002-06-20 11:59:29.967    28892    26  \n",
       "1  2002-06-20 11:59:29.967    28892    26  \n",
       "2  2002-06-20 11:59:29.967    28892    26  \n",
       "3  2002-06-20 11:59:29.967    28892    26  \n",
       "4  2002-06-20 11:59:29.967    28892    26  \n",
       "5  2002-06-20 11:59:29.967    28892    26  \n",
       "6  2002-06-20 11:59:29.967    28892    26  \n",
       "7  2002-06-20 11:59:29.967    28892    26  \n",
       "8  2002-06-20 11:59:29.967    28892    26  \n",
       "9  2002-12-21 09:37:21.817    47146    16  "
      ]
     },
     "execution_count": 3,
     "metadata": {},
     "output_type": "execute_result"
    }
   ],
   "source": [
    "df.iloc[:10,:10]"
   ]
  },
  {
   "cell_type": "markdown",
   "metadata": {},
   "source": [
    "# Filter data by year"
   ]
  },
  {
   "cell_type": "code",
   "execution_count": 4,
   "metadata": {
    "collapsed": false
   },
   "outputs": [],
   "source": [
    "df['reg date'] = pd.to_datetime(df['reg date'], format='%Y-%m-%d %H:%M:%S.%f')\n",
    "soup = df[df['reg date'].apply(lambda x: x.year).isin([2012, 2013, 2014])]"
   ]
  },
  {
   "cell_type": "markdown",
   "metadata": {},
   "source": [
    "# Wrangle data: convert long to wide and fill by purchase counts\n",
    "\n",
    "Naturally, the data is sparse"
   ]
  },
  {
   "cell_type": "code",
   "execution_count": 5,
   "metadata": {
    "collapsed": false
   },
   "outputs": [
    {
     "data": {
      "text/html": [
       "<div style=\"max-height:1000px;max-width:1500px;overflow:auto;\">\n",
       "<table border=\"1\" class=\"dataframe\">\n",
       "  <thead>\n",
       "    <tr style=\"text-align: right;\">\n",
       "      <th>item</th>\n",
       "      <th>11950880</th>\n",
       "      <th>11950902</th>\n",
       "      <th>11950912</th>\n",
       "      <th>11951016</th>\n",
       "      <th>11951055</th>\n",
       "      <th>11951057</th>\n",
       "      <th>11951146</th>\n",
       "      <th>11951185</th>\n",
       "      <th>11951230</th>\n",
       "      <th>11951248</th>\n",
       "    </tr>\n",
       "    <tr>\n",
       "      <th>org</th>\n",
       "      <th></th>\n",
       "      <th></th>\n",
       "      <th></th>\n",
       "      <th></th>\n",
       "      <th></th>\n",
       "      <th></th>\n",
       "      <th></th>\n",
       "      <th></th>\n",
       "      <th></th>\n",
       "      <th></th>\n",
       "    </tr>\n",
       "  </thead>\n",
       "  <tbody>\n",
       "    <tr>\n",
       "      <th>649419</th>\n",
       "      <td>0</td>\n",
       "      <td>0</td>\n",
       "      <td>0</td>\n",
       "      <td>0</td>\n",
       "      <td>0</td>\n",
       "      <td>0</td>\n",
       "      <td>0</td>\n",
       "      <td>0</td>\n",
       "      <td>0</td>\n",
       "      <td>0</td>\n",
       "    </tr>\n",
       "    <tr>\n",
       "      <th>649421</th>\n",
       "      <td>0</td>\n",
       "      <td>0</td>\n",
       "      <td>0</td>\n",
       "      <td>0</td>\n",
       "      <td>0</td>\n",
       "      <td>0</td>\n",
       "      <td>0</td>\n",
       "      <td>0</td>\n",
       "      <td>0</td>\n",
       "      <td>0</td>\n",
       "    </tr>\n",
       "    <tr>\n",
       "      <th>649423</th>\n",
       "      <td>0</td>\n",
       "      <td>0</td>\n",
       "      <td>0</td>\n",
       "      <td>0</td>\n",
       "      <td>0</td>\n",
       "      <td>0</td>\n",
       "      <td>0</td>\n",
       "      <td>0</td>\n",
       "      <td>0</td>\n",
       "      <td>0</td>\n",
       "    </tr>\n",
       "    <tr>\n",
       "      <th>649428</th>\n",
       "      <td>0</td>\n",
       "      <td>0</td>\n",
       "      <td>0</td>\n",
       "      <td>0</td>\n",
       "      <td>0</td>\n",
       "      <td>0</td>\n",
       "      <td>0</td>\n",
       "      <td>0</td>\n",
       "      <td>0</td>\n",
       "      <td>0</td>\n",
       "    </tr>\n",
       "    <tr>\n",
       "      <th>649433</th>\n",
       "      <td>0</td>\n",
       "      <td>0</td>\n",
       "      <td>0</td>\n",
       "      <td>0</td>\n",
       "      <td>0</td>\n",
       "      <td>0</td>\n",
       "      <td>0</td>\n",
       "      <td>0</td>\n",
       "      <td>0</td>\n",
       "      <td>0</td>\n",
       "    </tr>\n",
       "    <tr>\n",
       "      <th>649442</th>\n",
       "      <td>0</td>\n",
       "      <td>0</td>\n",
       "      <td>0</td>\n",
       "      <td>0</td>\n",
       "      <td>0</td>\n",
       "      <td>0</td>\n",
       "      <td>0</td>\n",
       "      <td>0</td>\n",
       "      <td>0</td>\n",
       "      <td>0</td>\n",
       "    </tr>\n",
       "    <tr>\n",
       "      <th>649467</th>\n",
       "      <td>0</td>\n",
       "      <td>0</td>\n",
       "      <td>0</td>\n",
       "      <td>0</td>\n",
       "      <td>0</td>\n",
       "      <td>0</td>\n",
       "      <td>0</td>\n",
       "      <td>0</td>\n",
       "      <td>0</td>\n",
       "      <td>0</td>\n",
       "    </tr>\n",
       "    <tr>\n",
       "      <th>649469</th>\n",
       "      <td>0</td>\n",
       "      <td>0</td>\n",
       "      <td>0</td>\n",
       "      <td>0</td>\n",
       "      <td>0</td>\n",
       "      <td>0</td>\n",
       "      <td>0</td>\n",
       "      <td>0</td>\n",
       "      <td>0</td>\n",
       "      <td>0</td>\n",
       "    </tr>\n",
       "    <tr>\n",
       "      <th>649471</th>\n",
       "      <td>0</td>\n",
       "      <td>0</td>\n",
       "      <td>0</td>\n",
       "      <td>0</td>\n",
       "      <td>0</td>\n",
       "      <td>0</td>\n",
       "      <td>0</td>\n",
       "      <td>0</td>\n",
       "      <td>0</td>\n",
       "      <td>0</td>\n",
       "    </tr>\n",
       "    <tr>\n",
       "      <th>649477</th>\n",
       "      <td>0</td>\n",
       "      <td>0</td>\n",
       "      <td>0</td>\n",
       "      <td>0</td>\n",
       "      <td>0</td>\n",
       "      <td>0</td>\n",
       "      <td>0</td>\n",
       "      <td>0</td>\n",
       "      <td>0</td>\n",
       "      <td>0</td>\n",
       "    </tr>\n",
       "  </tbody>\n",
       "</table>\n",
       "</div>"
      ],
      "text/plain": [
       "item    11950880  11950902  11950912  11951016  11951055  11951057  11951146  \\\n",
       "org                                                                            \n",
       "649419         0         0         0         0         0         0         0   \n",
       "649421         0         0         0         0         0         0         0   \n",
       "649423         0         0         0         0         0         0         0   \n",
       "649428         0         0         0         0         0         0         0   \n",
       "649433         0         0         0         0         0         0         0   \n",
       "649442         0         0         0         0         0         0         0   \n",
       "649467         0         0         0         0         0         0         0   \n",
       "649469         0         0         0         0         0         0         0   \n",
       "649471         0         0         0         0         0         0         0   \n",
       "649477         0         0         0         0         0         0         0   \n",
       "\n",
       "item    11951185  11951230  11951248  \n",
       "org                                   \n",
       "649419         0         0         0  \n",
       "649421         0         0         0  \n",
       "649423         0         0         0  \n",
       "649428         0         0         0  \n",
       "649433         0         0         0  \n",
       "649442         0         0         0  \n",
       "649467         0         0         0  \n",
       "649469         0         0         0  \n",
       "649471         0         0         0  \n",
       "649477         0         0         0  "
      ]
     },
     "execution_count": 5,
     "metadata": {},
     "output_type": "execute_result"
    }
   ],
   "source": [
    "soup_group = pd.crosstab(soup.org, soup.item)\n",
    "soup_group.iloc[:10,:10]"
   ]
  },
  {
   "cell_type": "markdown",
   "metadata": {},
   "source": [
    "# EDA: most orgs bought < 15 items between 2012-2014\n",
    "\n",
    "Consider throwing out items that were rarely purchased, but keep them all for now"
   ]
  },
  {
   "cell_type": "code",
   "execution_count": 6,
   "metadata": {
    "collapsed": false
   },
   "outputs": [],
   "source": [
    "total_org_purchases = soup_group.sum(axis=1)\n",
    "total_org_purchases.sort()"
   ]
  },
  {
   "cell_type": "code",
   "execution_count": 7,
   "metadata": {
    "collapsed": false
   },
   "outputs": [
    {
     "data": {
      "image/png": "[encoded data removed]",
      "text/plain": [
       "<matplotlib.figure.Figure at 0x116b57d50>"
      ]
     },
     "metadata": {},
     "output_type": "display_data"
    }
   ],
   "source": [
    "plt.figure(figsize=(10,5))\n",
    "plt.plot(total_org_purchases)\n",
    "plt.title(\"Purchase Totals by Organization\")\n",
    "plt.show()"
   ]
  },
  {
   "cell_type": "markdown",
   "metadata": {},
   "source": [
    "# Log transform features: counts of purchases for each item"
   ]
  },
  {
   "cell_type": "code",
   "execution_count": 8,
   "metadata": {
    "collapsed": false
   },
   "outputs": [
    {
     "data": {
      "text/html": [
       "<div style=\"max-height:1000px;max-width:1500px;overflow:auto;\">\n",
       "<table border=\"1\" class=\"dataframe\">\n",
       "  <thead>\n",
       "    <tr style=\"text-align: right;\">\n",
       "      <th>item</th>\n",
       "      <th>11950880</th>\n",
       "      <th>11950902</th>\n",
       "      <th>11950912</th>\n",
       "      <th>11951016</th>\n",
       "      <th>11951055</th>\n",
       "      <th>11951057</th>\n",
       "      <th>11951146</th>\n",
       "      <th>11951185</th>\n",
       "      <th>11951230</th>\n",
       "      <th>11951248</th>\n",
       "    </tr>\n",
       "    <tr>\n",
       "      <th>org</th>\n",
       "      <th></th>\n",
       "      <th></th>\n",
       "      <th></th>\n",
       "      <th></th>\n",
       "      <th></th>\n",
       "      <th></th>\n",
       "      <th></th>\n",
       "      <th></th>\n",
       "      <th></th>\n",
       "      <th></th>\n",
       "    </tr>\n",
       "  </thead>\n",
       "  <tbody>\n",
       "    <tr>\n",
       "      <th>649419</th>\n",
       "      <td>0</td>\n",
       "      <td>0</td>\n",
       "      <td>0</td>\n",
       "      <td>0</td>\n",
       "      <td>0</td>\n",
       "      <td>0</td>\n",
       "      <td>0</td>\n",
       "      <td>0</td>\n",
       "      <td>0</td>\n",
       "      <td>0</td>\n",
       "    </tr>\n",
       "    <tr>\n",
       "      <th>649421</th>\n",
       "      <td>0</td>\n",
       "      <td>0</td>\n",
       "      <td>0</td>\n",
       "      <td>0</td>\n",
       "      <td>0</td>\n",
       "      <td>0</td>\n",
       "      <td>0</td>\n",
       "      <td>0</td>\n",
       "      <td>0</td>\n",
       "      <td>0</td>\n",
       "    </tr>\n",
       "    <tr>\n",
       "      <th>649423</th>\n",
       "      <td>0</td>\n",
       "      <td>0</td>\n",
       "      <td>0</td>\n",
       "      <td>0</td>\n",
       "      <td>0</td>\n",
       "      <td>0</td>\n",
       "      <td>0</td>\n",
       "      <td>0</td>\n",
       "      <td>0</td>\n",
       "      <td>0</td>\n",
       "    </tr>\n",
       "    <tr>\n",
       "      <th>649428</th>\n",
       "      <td>0</td>\n",
       "      <td>0</td>\n",
       "      <td>0</td>\n",
       "      <td>0</td>\n",
       "      <td>0</td>\n",
       "      <td>0</td>\n",
       "      <td>0</td>\n",
       "      <td>0</td>\n",
       "      <td>0</td>\n",
       "      <td>0</td>\n",
       "    </tr>\n",
       "    <tr>\n",
       "      <th>649433</th>\n",
       "      <td>0</td>\n",
       "      <td>0</td>\n",
       "      <td>0</td>\n",
       "      <td>0</td>\n",
       "      <td>0</td>\n",
       "      <td>0</td>\n",
       "      <td>0</td>\n",
       "      <td>0</td>\n",
       "      <td>0</td>\n",
       "      <td>0</td>\n",
       "    </tr>\n",
       "    <tr>\n",
       "      <th>649442</th>\n",
       "      <td>0</td>\n",
       "      <td>0</td>\n",
       "      <td>0</td>\n",
       "      <td>0</td>\n",
       "      <td>0</td>\n",
       "      <td>0</td>\n",
       "      <td>0</td>\n",
       "      <td>0</td>\n",
       "      <td>0</td>\n",
       "      <td>0</td>\n",
       "    </tr>\n",
       "    <tr>\n",
       "      <th>649467</th>\n",
       "      <td>0</td>\n",
       "      <td>0</td>\n",
       "      <td>0</td>\n",
       "      <td>0</td>\n",
       "      <td>0</td>\n",
       "      <td>0</td>\n",
       "      <td>0</td>\n",
       "      <td>0</td>\n",
       "      <td>0</td>\n",
       "      <td>0</td>\n",
       "    </tr>\n",
       "    <tr>\n",
       "      <th>649469</th>\n",
       "      <td>0</td>\n",
       "      <td>0</td>\n",
       "      <td>0</td>\n",
       "      <td>0</td>\n",
       "      <td>0</td>\n",
       "      <td>0</td>\n",
       "      <td>0</td>\n",
       "      <td>0</td>\n",
       "      <td>0</td>\n",
       "      <td>0</td>\n",
       "    </tr>\n",
       "    <tr>\n",
       "      <th>649471</th>\n",
       "      <td>0</td>\n",
       "      <td>0</td>\n",
       "      <td>0</td>\n",
       "      <td>0</td>\n",
       "      <td>0</td>\n",
       "      <td>0</td>\n",
       "      <td>0</td>\n",
       "      <td>0</td>\n",
       "      <td>0</td>\n",
       "      <td>0</td>\n",
       "    </tr>\n",
       "    <tr>\n",
       "      <th>649477</th>\n",
       "      <td>0</td>\n",
       "      <td>0</td>\n",
       "      <td>0</td>\n",
       "      <td>0</td>\n",
       "      <td>0</td>\n",
       "      <td>0</td>\n",
       "      <td>0</td>\n",
       "      <td>0</td>\n",
       "      <td>0</td>\n",
       "      <td>0</td>\n",
       "    </tr>\n",
       "  </tbody>\n",
       "</table>\n",
       "</div>"
      ],
      "text/plain": [
       "item    11950880  11950902  11950912  11951016  11951055  11951057  11951146  \\\n",
       "org                                                                            \n",
       "649419         0         0         0         0         0         0         0   \n",
       "649421         0         0         0         0         0         0         0   \n",
       "649423         0         0         0         0         0         0         0   \n",
       "649428         0         0         0         0         0         0         0   \n",
       "649433         0         0         0         0         0         0         0   \n",
       "649442         0         0         0         0         0         0         0   \n",
       "649467         0         0         0         0         0         0         0   \n",
       "649469         0         0         0         0         0         0         0   \n",
       "649471         0         0         0         0         0         0         0   \n",
       "649477         0         0         0         0         0         0         0   \n",
       "\n",
       "item    11951185  11951230  11951248  \n",
       "org                                   \n",
       "649419         0         0         0  \n",
       "649421         0         0         0  \n",
       "649423         0         0         0  \n",
       "649428         0         0         0  \n",
       "649433         0         0         0  \n",
       "649442         0         0         0  \n",
       "649467         0         0         0  \n",
       "649469         0         0         0  \n",
       "649471         0         0         0  \n",
       "649477         0         0         0  "
      ]
     },
     "execution_count": 8,
     "metadata": {},
     "output_type": "execute_result"
    }
   ],
   "source": [
    "soup_group_log = np.log(soup_group + 1)\n",
    "soup_group_log.iloc[:10,:10]"
   ]
  },
  {
   "cell_type": "markdown",
   "metadata": {},
   "source": [
    "# Example: calculate distance function for org_id=649419\n",
    "\n",
    "Todo: refactor using numpy arrays instead of iterating through pandas dataframe"
   ]
  },
  {
   "cell_type": "code",
   "execution_count": 9,
   "metadata": {
    "collapsed": false
   },
   "outputs": [],
   "source": [
    "def calc_distance(df, org_id):\n",
    "    rows = soup_group_log.index\n",
    "\n",
    "    dist_euc = []\n",
    "    dist_man = []\n",
    "    org_vec = df.loc[org_id]\n",
    "\n",
    "    for x in rows:\n",
    "        dist_euc.append([x, float(euclidean_distances(org_vec, df.loc[x]))])\n",
    "        dist_man.append([x, float(manhattan_distances(org_vec, df.loc[x]))])\n",
    "    \n",
    "    return dist_euc, dist_man"
   ]
  },
  {
   "cell_type": "code",
   "execution_count": 10,
   "metadata": {
    "collapsed": false
   },
   "outputs": [],
   "source": [
    "dist_euc, dist_man = calc_distance(soup_group_log, org_id=649419)"
   ]
  },
  {
   "cell_type": "markdown",
   "metadata": {},
   "source": [
    "# Example: return top 100 similar orgs by distance metric"
   ]
  },
  {
   "cell_type": "code",
   "execution_count": 11,
   "metadata": {
    "collapsed": false
   },
   "outputs": [
    {
     "data": {
      "text/plain": [
       "[[660324, 0.9802581434685472],\n",
       " [668958, 0.9802581434685472],\n",
       " [721071, 0.9802581434685472],\n",
       " [726192, 0.9802581434685472],\n",
       " [753619, 0.9802581434685472],\n",
       " [756159, 0.9802581434685472],\n",
       " [828918, 0.9802581434685472],\n",
       " [837910, 0.9802581434685472],\n",
       " [692702, 1.0608053458243734],\n",
       " [782417, 1.135653968259141]]"
      ]
     },
     "execution_count": 11,
     "metadata": {},
     "output_type": "execute_result"
    }
   ],
   "source": [
    "dist_euc_sort = sorted(dist_euc, key=lambda x: x[1])[1:101] # skip first value: comparison to self\n",
    "\n",
    "# show top 10\n",
    "dist_euc_sort[:10]"
   ]
  },
  {
   "cell_type": "code",
   "execution_count": 12,
   "metadata": {
    "collapsed": false
   },
   "outputs": [
    {
     "data": {
      "text/plain": [
       "[[660324, 1.3862943611198906],\n",
       " [668958, 1.3862943611198906],\n",
       " [721071, 1.3862943611198906],\n",
       " [726192, 1.3862943611198906],\n",
       " [753619, 1.3862943611198906],\n",
       " [756159, 1.3862943611198906],\n",
       " [828918, 1.3862943611198906],\n",
       " [837910, 1.3862943611198906],\n",
       " [692702, 1.791759469228055],\n",
       " [649597, 2.0794415416798357]]"
      ]
     },
     "execution_count": 12,
     "metadata": {},
     "output_type": "execute_result"
    }
   ],
   "source": [
    "dist_man_sort = sorted(dist_man, key=lambda x: x[1])[1:101] # skip first value: comparison to self\n",
    "\n",
    "# show top 10\n",
    "dist_man_sort[:10]"
   ]
  },
  {
   "cell_type": "code",
   "execution_count": 13,
   "metadata": {
    "collapsed": false
   },
   "outputs": [],
   "source": [
    "def calc_top10_org_weights(df, distance_val, sorted_distance_val):\n",
    "    max_man_dist = max(zip(*distance_val)[1])\n",
    "\n",
    "    weight_vector = []\n",
    "\n",
    "    for x in sorted_distance_val[1:]:\n",
    "        weight = 1 - x[1]/max_man_dist\n",
    "        weight_vector.append(weight * df.loc[[x[0]]].values[0])\n",
    "        \n",
    "    return weight_vector"
   ]
  },
  {
   "cell_type": "code",
   "execution_count": 14,
   "metadata": {
    "collapsed": false
   },
   "outputs": [],
   "source": [
    "weight_vector_euc = calc_top10_org_weights(soup_group_log, dist_man, dist_man_sort)\n",
    "weight_vector_man = calc_top10_org_weights(soup_group_log, dist_euc, dist_euc_sort)"
   ]
  },
  {
   "cell_type": "code",
   "execution_count": 15,
   "metadata": {
    "collapsed": false
   },
   "outputs": [],
   "source": [
    "weights_euc = zip(*weight_vector_euc)\n",
    "weights_man = zip(*weight_vector_man)"
   ]
  },
  {
   "cell_type": "markdown",
   "metadata": {},
   "source": [
    "# Example: return all recommended items by distance metric"
   ]
  },
  {
   "cell_type": "code",
   "execution_count": 16,
   "metadata": {
    "collapsed": false
   },
   "outputs": [],
   "source": [
    "item_similarity_euc = [(k, sum(v)) for k,v in enumerate(weights_euc) if sum(v) > 0]\n",
    "item_similarity_man = [(k, sum(v)) for k,v in enumerate(weights_man) if sum(v) > 0]"
   ]
  },
  {
   "cell_type": "code",
   "execution_count": 17,
   "metadata": {
    "collapsed": false
   },
   "outputs": [],
   "source": [
    "indices_euc = zip(*item_similarity_euc)[0]\n",
    "indices_man = zip(*item_similarity_man)[0]"
   ]
  },
  {
   "cell_type": "code",
   "execution_count": 18,
   "metadata": {
    "collapsed": false
   },
   "outputs": [
    {
     "data": {
      "text/plain": [
       "{17871409,\n",
       " 23368086,\n",
       " 34793482,\n",
       " 35127559,\n",
       " 39960918,\n",
       " 39962284,\n",
       " 44490815,\n",
       " 45338113,\n",
       " 45338356,\n",
       " 46544823,\n",
       " 47036069,\n",
       " 56477268}"
      ]
     },
     "execution_count": 18,
     "metadata": {},
     "output_type": "execute_result"
    }
   ],
   "source": [
    "all_recommend_items_euc = set([soup_group_log.columns[i] for i in indices_euc])\n",
    "all_recommend_items_euc"
   ]
  },
  {
   "cell_type": "code",
   "execution_count": 19,
   "metadata": {
    "collapsed": false
   },
   "outputs": [
    {
     "data": {
      "text/plain": [
       "{39960918, 39962284, 45338113, 46544823, 47036069}"
      ]
     },
     "execution_count": 19,
     "metadata": {},
     "output_type": "execute_result"
    }
   ],
   "source": [
    "all_recommend_items_man = set([soup_group_log.columns[i] for i in indices_man])\n",
    "all_recommend_items_man"
   ]
  },
  {
   "cell_type": "markdown",
   "metadata": {},
   "source": [
    "# Example: return items originally purchased by org"
   ]
  },
  {
   "cell_type": "code",
   "execution_count": 20,
   "metadata": {
    "collapsed": false
   },
   "outputs": [
    {
     "data": {
      "text/plain": [
       "{39960918, 39962284, 45338113, 46544823, 47036069}"
      ]
     },
     "execution_count": 20,
     "metadata": {},
     "output_type": "execute_result"
    }
   ],
   "source": [
    "already_purchased_items = set(soup_group.loc[649419][soup_group.loc[649419] > 0].index)\n",
    "already_purchased_items"
   ]
  },
  {
   "cell_type": "markdown",
   "metadata": {},
   "source": [
    "# Example: return recommended items not already purchased by org, by distance metric"
   ]
  },
  {
   "cell_type": "code",
   "execution_count": 21,
   "metadata": {
    "collapsed": false
   },
   "outputs": [
    {
     "data": {
      "text/plain": [
       "[]"
      ]
     },
     "execution_count": 21,
     "metadata": {},
     "output_type": "execute_result"
    }
   ],
   "source": [
    "recommend_items_man = list(all_recommend_items_man - already_purchased_items)\n",
    "recommend_items_man"
   ]
  },
  {
   "cell_type": "code",
   "execution_count": 22,
   "metadata": {
    "collapsed": false
   },
   "outputs": [
    {
     "data": {
      "text/plain": [
       "[35127559, 34793482, 17871409, 56477268, 23368086, 45338356, 44490815]"
      ]
     },
     "execution_count": 22,
     "metadata": {},
     "output_type": "execute_result"
    }
   ],
   "source": [
    "recommend_items_euc = list(all_recommend_items_euc - already_purchased_items)\n",
    "recommend_items_euc"
   ]
  }
 ],
 "metadata": {
  "kernelspec": {
   "display_name": "Python 2",
   "language": "python",
   "name": "python2"
  },
  "language_info": {
   "codemirror_mode": {
    "name": "ipython",
    "version": 2
   },
   "file_extension": ".py",
   "mimetype": "text/x-python",
   "name": "python",
   "nbconvert_exporter": "python",
   "pygments_lexer": "ipython2",
   "version": "2.7.9"
  }
 },
 "nbformat": 4,
 "nbformat_minor": 0
}
