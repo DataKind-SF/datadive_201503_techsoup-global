{
 "metadata": {
  "name": "",
  "signature": "sha256:d2dd7763fdbb1766f9195c08ec36cade8203affce2304bac4c5fcaf64bbabeaf"
 },
 "nbformat": 3,
 "nbformat_minor": 0,
 "worksheets": [
  {
   "cells": [
    {
     "cell_type": "code",
     "collapsed": false,
     "input": [
      "%matplotlib inline\n",
      "import pandas as pd\n",
      "from sklearn import metrics\n",
      "from sklearn.cluster import KMeans\n",
      "from sklearn.ensemble import RandomForestClassifier"
     ],
     "language": "python",
     "metadata": {},
     "outputs": [],
     "prompt_number": 119
    },
    {
     "cell_type": "code",
     "collapsed": false,
     "input": [
      "df1 = pd.read_csv('techsoup_datakind_sample.csv')"
     ],
     "language": "python",
     "metadata": {},
     "outputs": [],
     "prompt_number": 92
    },
    {
     "cell_type": "code",
     "collapsed": false,
     "input": [
      "df.head()"
     ],
     "language": "python",
     "metadata": {},
     "outputs": [
      {
       "html": [
        "<div style=\"max-height:1000px;max-width:1500px;overflow:auto;\">\n",
        "<table border=\"1\" class=\"dataframe\">\n",
        "  <thead>\n",
        "    <tr style=\"text-align: right;\">\n",
        "      <th></th>\n",
        "      <th>pri_key</th>\n",
        "      <th>org</th>\n",
        "      <th>city</th>\n",
        "      <th>state</th>\n",
        "      <th>postalcode</th>\n",
        "      <th>country</th>\n",
        "      <th>org_type</th>\n",
        "      <th>org_subtype</th>\n",
        "      <th>budget</th>\n",
        "      <th>reg_date</th>\n",
        "      <th>...</th>\n",
        "      <th>tax_id_number</th>\n",
        "      <th>landing_page</th>\n",
        "      <th>Medium</th>\n",
        "      <th>transaction_date</th>\n",
        "      <th>vendor</th>\n",
        "      <th>item</th>\n",
        "      <th>category</th>\n",
        "      <th>licenses</th>\n",
        "      <th>revenue</th>\n",
        "      <th>value</th>\n",
        "    </tr>\n",
        "  </thead>\n",
        "  <tbody>\n",
        "    <tr>\n",
        "      <th>0</th>\n",
        "      <td> 1</td>\n",
        "      <td> 105872</td>\n",
        "      <td> Villa Rica</td>\n",
        "      <td> GA</td>\n",
        "      <td>      30180</td>\n",
        "      <td> US</td>\n",
        "      <td> 15</td>\n",
        "      <td> 408</td>\n",
        "      <td> 100000</td>\n",
        "      <td> 2002-09-05 10:38:23.483</td>\n",
        "      <td>...</td>\n",
        "      <td> 63-1242259</td>\n",
        "      <td>NaN</td>\n",
        "      <td>NaN</td>\n",
        "      <td> 2010-06-21</td>\n",
        "      <td> 3882</td>\n",
        "      <td> 45200711</td>\n",
        "      <td> NaN</td>\n",
        "      <td>  1</td>\n",
        "      <td> 31</td>\n",
        "      <td>  765</td>\n",
        "    </tr>\n",
        "    <tr>\n",
        "      <th>1</th>\n",
        "      <td> 2</td>\n",
        "      <td> 105872</td>\n",
        "      <td> Villa Rica</td>\n",
        "      <td> GA</td>\n",
        "      <td>      30180</td>\n",
        "      <td> US</td>\n",
        "      <td> 15</td>\n",
        "      <td> 408</td>\n",
        "      <td> 100000</td>\n",
        "      <td> 2002-09-05 10:38:23.483</td>\n",
        "      <td>...</td>\n",
        "      <td> 63-1242259</td>\n",
        "      <td>NaN</td>\n",
        "      <td>NaN</td>\n",
        "      <td> 2010-06-21</td>\n",
        "      <td> 3882</td>\n",
        "      <td> 39959521</td>\n",
        "      <td> NaN</td>\n",
        "      <td> 10</td>\n",
        "      <td> 80</td>\n",
        "      <td> 1990</td>\n",
        "    </tr>\n",
        "    <tr>\n",
        "      <th>2</th>\n",
        "      <td> 3</td>\n",
        "      <td> 105872</td>\n",
        "      <td> Villa Rica</td>\n",
        "      <td> GA</td>\n",
        "      <td>      30180</td>\n",
        "      <td> US</td>\n",
        "      <td> 15</td>\n",
        "      <td> 408</td>\n",
        "      <td> 100000</td>\n",
        "      <td> 2002-09-05 10:38:23.483</td>\n",
        "      <td>...</td>\n",
        "      <td> 63-1242259</td>\n",
        "      <td>NaN</td>\n",
        "      <td>NaN</td>\n",
        "      <td> 2008-02-06</td>\n",
        "      <td> 3892</td>\n",
        "      <td> 23664563</td>\n",
        "      <td> NaN</td>\n",
        "      <td>  1</td>\n",
        "      <td>  5</td>\n",
        "      <td>   40</td>\n",
        "    </tr>\n",
        "    <tr>\n",
        "      <th>3</th>\n",
        "      <td> 4</td>\n",
        "      <td> 105872</td>\n",
        "      <td> Villa Rica</td>\n",
        "      <td> GA</td>\n",
        "      <td>      30180</td>\n",
        "      <td> US</td>\n",
        "      <td> 15</td>\n",
        "      <td> 408</td>\n",
        "      <td> 100000</td>\n",
        "      <td> 2002-09-05 10:38:23.483</td>\n",
        "      <td>...</td>\n",
        "      <td> 63-1242259</td>\n",
        "      <td>NaN</td>\n",
        "      <td>NaN</td>\n",
        "      <td> 2008-02-06</td>\n",
        "      <td> 3892</td>\n",
        "      <td> 20137400</td>\n",
        "      <td> NaN</td>\n",
        "      <td>  1</td>\n",
        "      <td> 15</td>\n",
        "      <td>   60</td>\n",
        "    </tr>\n",
        "    <tr>\n",
        "      <th>4</th>\n",
        "      <td> 5</td>\n",
        "      <td> 105872</td>\n",
        "      <td> Villa Rica</td>\n",
        "      <td> GA</td>\n",
        "      <td>      30180</td>\n",
        "      <td> US</td>\n",
        "      <td> 15</td>\n",
        "      <td> 408</td>\n",
        "      <td> 100000</td>\n",
        "      <td> 2002-09-05 10:38:23.483</td>\n",
        "      <td>...</td>\n",
        "      <td> 63-1242259</td>\n",
        "      <td>NaN</td>\n",
        "      <td>NaN</td>\n",
        "      <td> 2009-11-09</td>\n",
        "      <td> 3882</td>\n",
        "      <td> 39959521</td>\n",
        "      <td> NaN</td>\n",
        "      <td>  4</td>\n",
        "      <td> 32</td>\n",
        "      <td>  796</td>\n",
        "    </tr>\n",
        "  </tbody>\n",
        "</table>\n",
        "<p>5 rows \u00d7 24 columns</p>\n",
        "</div>"
       ],
       "metadata": {},
       "output_type": "pyout",
       "prompt_number": 54,
       "text": [
        "   pri_key     org        city state  postalcode country  org_type  \\\n",
        "0        1  105872  Villa Rica    GA       30180      US        15   \n",
        "1        2  105872  Villa Rica    GA       30180      US        15   \n",
        "2        3  105872  Villa Rica    GA       30180      US        15   \n",
        "3        4  105872  Villa Rica    GA       30180      US        15   \n",
        "4        5  105872  Villa Rica    GA       30180      US        15   \n",
        "\n",
        "  org_subtype  budget                 reg_date  ...    tax_id_number  \\\n",
        "0         408  100000  2002-09-05 10:38:23.483  ...       63-1242259   \n",
        "1         408  100000  2002-09-05 10:38:23.483  ...       63-1242259   \n",
        "2         408  100000  2002-09-05 10:38:23.483  ...       63-1242259   \n",
        "3         408  100000  2002-09-05 10:38:23.483  ...       63-1242259   \n",
        "4         408  100000  2002-09-05 10:38:23.483  ...       63-1242259   \n",
        "\n",
        "   landing_page Medium  transaction_date vendor      item  category licenses  \\\n",
        "0           NaN    NaN        2010-06-21   3882  45200711       NaN        1   \n",
        "1           NaN    NaN        2010-06-21   3882  39959521       NaN       10   \n",
        "2           NaN    NaN        2008-02-06   3892  23664563       NaN        1   \n",
        "3           NaN    NaN        2008-02-06   3892  20137400       NaN        1   \n",
        "4           NaN    NaN        2009-11-09   3882  39959521       NaN        4   \n",
        "\n",
        "   revenue  value  \n",
        "0       31    765  \n",
        "1       80   1990  \n",
        "2        5     40  \n",
        "3       15     60  \n",
        "4       32    796  \n",
        "\n",
        "[5 rows x 24 columns]"
       ]
      }
     ],
     "prompt_number": 54
    },
    {
     "cell_type": "code",
     "collapsed": false,
     "input": [
      "df.columns"
     ],
     "language": "python",
     "metadata": {},
     "outputs": [
      {
       "metadata": {},
       "output_type": "pyout",
       "prompt_number": 55,
       "text": [
        "Index([u'pri_key', u'org', u'city', u'state', u'postalcode', u'country', u'org_type', u'org_subtype', u'budget', u'reg_date', u'contact', u'role', u'role_description', u'order_num', u'tax_id_number', u'landing_page', u'Medium', u'transaction_date', u'vendor', u'item', u'category', u'licenses', u'revenue', u'value'], dtype='object')"
       ]
      }
     ],
     "prompt_number": 55
    },
    {
     "cell_type": "code",
     "collapsed": false,
     "input": [
      "df.describe()"
     ],
     "language": "python",
     "metadata": {},
     "outputs": [
      {
       "html": [
        "<div style=\"max-height:1000px;max-width:1500px;overflow:auto;\">\n",
        "<table border=\"1\" class=\"dataframe\">\n",
        "  <thead>\n",
        "    <tr style=\"text-align: right;\">\n",
        "      <th></th>\n",
        "      <th>pri_key</th>\n",
        "      <th>org</th>\n",
        "      <th>org_type</th>\n",
        "      <th>budget</th>\n",
        "      <th>contact</th>\n",
        "      <th>role</th>\n",
        "      <th>order_num</th>\n",
        "      <th>landing_page</th>\n",
        "      <th>Medium</th>\n",
        "      <th>vendor</th>\n",
        "      <th>item</th>\n",
        "      <th>licenses</th>\n",
        "      <th>revenue</th>\n",
        "      <th>value</th>\n",
        "    </tr>\n",
        "  </thead>\n",
        "  <tbody>\n",
        "    <tr>\n",
        "      <th>count</th>\n",
        "      <td>    1999.000000</td>\n",
        "      <td>   1999.000000</td>\n",
        "      <td> 1999.000000</td>\n",
        "      <td>     1989.000000</td>\n",
        "      <td>   1272.000000</td>\n",
        "      <td> 1272.000000</td>\n",
        "      <td>    1999.000000</td>\n",
        "      <td>  0</td>\n",
        "      <td>  0</td>\n",
        "      <td> 1999.000000</td>\n",
        "      <td> 1.999000e+03</td>\n",
        "      <td> 1999.000000</td>\n",
        "      <td> 1999.000000</td>\n",
        "      <td>  1999.000000</td>\n",
        "    </tr>\n",
        "    <tr>\n",
        "      <th>mean</th>\n",
        "      <td>  970773.739870</td>\n",
        "      <td> 295784.271136</td>\n",
        "      <td>   10.153077</td>\n",
        "      <td>  1197617.742081</td>\n",
        "      <td> 311157.274371</td>\n",
        "      <td>   23.810535</td>\n",
        "      <td>  609813.671836</td>\n",
        "      <td>NaN</td>\n",
        "      <td>NaN</td>\n",
        "      <td> 3993.629315</td>\n",
        "      <td> 3.281991e+07</td>\n",
        "      <td>    5.825913</td>\n",
        "      <td>  115.253877</td>\n",
        "      <td>  2161.124297</td>\n",
        "    </tr>\n",
        "    <tr>\n",
        "      <th>std</th>\n",
        "      <td>  312827.299972</td>\n",
        "      <td> 211328.244643</td>\n",
        "      <td>    6.614555</td>\n",
        "      <td>  3264809.255861</td>\n",
        "      <td> 241520.775427</td>\n",
        "      <td>    7.305373</td>\n",
        "      <td>  353748.678478</td>\n",
        "      <td>NaN</td>\n",
        "      <td>NaN</td>\n",
        "      <td>  247.774800</td>\n",
        "      <td> 1.933972e+07</td>\n",
        "      <td>   12.201581</td>\n",
        "      <td>  258.256534</td>\n",
        "      <td>  5094.724802</td>\n",
        "    </tr>\n",
        "    <tr>\n",
        "      <th>min</th>\n",
        "      <td>       1.000000</td>\n",
        "      <td>  89262.000000</td>\n",
        "      <td>    1.000000</td>\n",
        "      <td>        0.000000</td>\n",
        "      <td>  13241.000000</td>\n",
        "      <td>   11.000000</td>\n",
        "      <td>   82567.000000</td>\n",
        "      <td>NaN</td>\n",
        "      <td>NaN</td>\n",
        "      <td> 3865.000000</td>\n",
        "      <td> 1.195079e+07</td>\n",
        "      <td>  -44.000000</td>\n",
        "      <td> -880.000000</td>\n",
        "      <td>-21956.000000</td>\n",
        "    </tr>\n",
        "    <tr>\n",
        "      <th>25%</th>\n",
        "      <td> 1070946.500000</td>\n",
        "      <td> 112364.000000</td>\n",
        "      <td>    4.000000</td>\n",
        "      <td>    62826.000000</td>\n",
        "      <td>  78686.000000</td>\n",
        "      <td>   16.000000</td>\n",
        "      <td>  311146.500000</td>\n",
        "      <td>NaN</td>\n",
        "      <td>NaN</td>\n",
        "      <td> 3882.000000</td>\n",
        "      <td> 1.493190e+07</td>\n",
        "      <td>    1.000000</td>\n",
        "      <td>   23.000000</td>\n",
        "      <td>   398.000000</td>\n",
        "    </tr>\n",
        "    <tr>\n",
        "      <th>50%</th>\n",
        "      <td> 1071446.000000</td>\n",
        "      <td> 243747.000000</td>\n",
        "      <td>   12.000000</td>\n",
        "      <td>   294120.000000</td>\n",
        "      <td> 245370.000000</td>\n",
        "      <td>   26.000000</td>\n",
        "      <td>  545189.000000</td>\n",
        "      <td>NaN</td>\n",
        "      <td>NaN</td>\n",
        "      <td> 3882.000000</td>\n",
        "      <td> 2.812446e+07</td>\n",
        "      <td>    1.000000</td>\n",
        "      <td>   48.000000</td>\n",
        "      <td>   799.950000</td>\n",
        "    </tr>\n",
        "    <tr>\n",
        "      <th>75%</th>\n",
        "      <td> 1071945.500000</td>\n",
        "      <td> 414279.000000</td>\n",
        "      <td>   15.000000</td>\n",
        "      <td>  1070000.000000</td>\n",
        "      <td> 489375.000000</td>\n",
        "      <td>   29.000000</td>\n",
        "      <td>  885219.000000</td>\n",
        "      <td>NaN</td>\n",
        "      <td>NaN</td>\n",
        "      <td> 3892.000000</td>\n",
        "      <td> 4.520067e+07</td>\n",
        "      <td>    5.000000</td>\n",
        "      <td>  108.500000</td>\n",
        "      <td>  1799.000000</td>\n",
        "    </tr>\n",
        "    <tr>\n",
        "      <th>max</th>\n",
        "      <td> 1072445.000000</td>\n",
        "      <td> 980815.000000</td>\n",
        "      <td>   22.000000</td>\n",
        "      <td> 36648500.000000</td>\n",
        "      <td> 980809.000000</td>\n",
        "      <td>   35.000000</td>\n",
        "      <td> 1346249.000000</td>\n",
        "      <td>NaN</td>\n",
        "      <td>NaN</td>\n",
        "      <td> 4774.000000</td>\n",
        "      <td> 1.013836e+08</td>\n",
        "      <td>  100.000000</td>\n",
        "      <td> 5980.000000</td>\n",
        "      <td> 82484.000000</td>\n",
        "    </tr>\n",
        "  </tbody>\n",
        "</table>\n",
        "</div>"
       ],
       "metadata": {},
       "output_type": "pyout",
       "prompt_number": 56,
       "text": [
        "              pri_key            org     org_type           budget  \\\n",
        "count     1999.000000    1999.000000  1999.000000      1989.000000   \n",
        "mean    970773.739870  295784.271136    10.153077   1197617.742081   \n",
        "std     312827.299972  211328.244643     6.614555   3264809.255861   \n",
        "min          1.000000   89262.000000     1.000000         0.000000   \n",
        "25%    1070946.500000  112364.000000     4.000000     62826.000000   \n",
        "50%    1071446.000000  243747.000000    12.000000    294120.000000   \n",
        "75%    1071945.500000  414279.000000    15.000000   1070000.000000   \n",
        "max    1072445.000000  980815.000000    22.000000  36648500.000000   \n",
        "\n",
        "             contact         role       order_num  landing_page  Medium  \\\n",
        "count    1272.000000  1272.000000     1999.000000             0       0   \n",
        "mean   311157.274371    23.810535   609813.671836           NaN     NaN   \n",
        "std    241520.775427     7.305373   353748.678478           NaN     NaN   \n",
        "min     13241.000000    11.000000    82567.000000           NaN     NaN   \n",
        "25%     78686.000000    16.000000   311146.500000           NaN     NaN   \n",
        "50%    245370.000000    26.000000   545189.000000           NaN     NaN   \n",
        "75%    489375.000000    29.000000   885219.000000           NaN     NaN   \n",
        "max    980809.000000    35.000000  1346249.000000           NaN     NaN   \n",
        "\n",
        "            vendor          item     licenses      revenue         value  \n",
        "count  1999.000000  1.999000e+03  1999.000000  1999.000000   1999.000000  \n",
        "mean   3993.629315  3.281991e+07     5.825913   115.253877   2161.124297  \n",
        "std     247.774800  1.933972e+07    12.201581   258.256534   5094.724802  \n",
        "min    3865.000000  1.195079e+07   -44.000000  -880.000000 -21956.000000  \n",
        "25%    3882.000000  1.493190e+07     1.000000    23.000000    398.000000  \n",
        "50%    3882.000000  2.812446e+07     1.000000    48.000000    799.950000  \n",
        "75%    3892.000000  4.520067e+07     5.000000   108.500000   1799.000000  \n",
        "max    4774.000000  1.013836e+08   100.000000  5980.000000  82484.000000  "
       ]
      }
     ],
     "prompt_number": 56
    },
    {
     "cell_type": "code",
     "collapsed": false,
     "input": [
      "for column in df.columns:\n",
      "    try:\n",
      "        print column, len(df[column].dropna().drop_duplicates()), type(df[column].dropna().ix[10])\n",
      "    except Exception, e:\n",
      "        print "
     ],
     "language": "python",
     "metadata": {},
     "outputs": [
      {
       "output_type": "stream",
       "stream": "stdout",
       "text": [
        "pri_key 1999 <type 'numpy.int64'>\n",
        "org 336 <type 'numpy.int64'>\n",
        "city 301 <type 'str'>\n",
        "state 70 <type 'str'>\n",
        "postalcode 351 <type 'str'>\n",
        "country 24 <type 'str'>\n",
        "org_type 16 <type 'numpy.int64'>\n",
        "org_subtype 90 <type 'str'>\n",
        "budget 206 <type 'numpy.float64'>\n",
        "reg_date 336 <type 'str'>\n",
        "contact 190 <type 'numpy.float64'>\n",
        "role 9 <type 'numpy.float64'>\n",
        "role_description 9 <type 'str'>\n",
        "order_num 1147 <type 'numpy.int64'>\n",
        "tax_id_number 326 <type 'str'>\n",
        "Medium 0\n",
        "transaction_date 879 <type 'str'>\n",
        "vendor 43 <type 'numpy.int64'>\n",
        "item 555 <type 'numpy.int64'>\n",
        "category 25\n",
        "licenses 46 <type 'numpy.int64'>\n",
        "revenue 238 <type 'numpy.float64'>\n",
        "value 538 <type 'numpy.float64'>\n"
       ]
      }
     ],
     "prompt_number": 29
    },
    {
     "cell_type": "code",
     "collapsed": false,
     "input": [
      "dfs = df[['org', 'org_type', 'budget', 'contact', 'role', 'order_num', 'vendor', 'item', 'licenses', 'revenue', 'value']]"
     ],
     "language": "python",
     "metadata": {},
     "outputs": [],
     "prompt_number": 57
    },
    {
     "cell_type": "code",
     "collapsed": false,
     "input": [
      "len(dfs.dropna())"
     ],
     "language": "python",
     "metadata": {},
     "outputs": [
      {
       "metadata": {},
       "output_type": "pyout",
       "prompt_number": 58,
       "text": [
        "1272"
       ]
      }
     ],
     "prompt_number": 58
    },
    {
     "cell_type": "code",
     "collapsed": false,
     "input": [
      "df = pd.read_csv('techsoup_datakind_details_wide.csv')"
     ],
     "language": "python",
     "metadata": {},
     "outputs": [],
     "prompt_number": 82
    },
    {
     "cell_type": "code",
     "collapsed": false,
     "input": [
      "print df['category'].dropna().drop_duplicates()\n",
      "print len(df['category'].dropna().drop_duplicates())"
     ],
     "language": "python",
     "metadata": {},
     "outputs": [
      {
       "output_type": "stream",
       "stream": "stdout",
       "text": [
        "9                         desktop-publishing\n",
        "59                           audio-and-video\n",
        "79              accounting-and-finance-tools\n",
        "81                            online-courses\n",
        "85                        backup-and-restore\n",
        "118                desktop-operating-systems\n",
        "164              data-and-privacy-protection\n",
        "200      constituent-relationship-management\n",
        "201                     donations-and-grants\n",
        "217                      collaboration-tools\n",
        "218         refurbished-desktops-and-laptops\n",
        "233                       project-management\n",
        "240                 server-operating-systems\n",
        "283                         network-hardware\n",
        "300                            hr-management\n",
        "314                   research-and-analytics\n",
        "337                                databases\n",
        "446                                    email\n",
        "599                           graphic-design\n",
        "679                            reduce-travel\n",
        "790                     software-development\n",
        "867                        server-management\n",
        "915             mobile-software-and-services\n",
        "1551            virus-and-malware-protection\n",
        "1870                             it-services\n",
        "2029                              e-commerce\n",
        "2385         payment-and-donation-processing\n",
        "4259              content-management-systems\n",
        "4473                    refurbished-monitors\n",
        "4507                          mobile-devices\n",
        "4553                        office-equipment\n",
        "5798                                 godaddy\n",
        "9457                       business-planning\n",
        "12747            infrastructure-as-a-service\n",
        "20296                        mobile-websites\n",
        "64868                   volunteer-management\n",
        "82832                     online-fundraising\n",
        "Name: category, dtype: object\n",
        "37"
       ]
      },
      {
       "output_type": "stream",
       "stream": "stdout",
       "text": [
        "\n"
       ]
      }
     ],
     "prompt_number": 83
    },
    {
     "cell_type": "code",
     "collapsed": false,
     "input": [
      "g = df.groupby('category')"
     ],
     "language": "python",
     "metadata": {},
     "outputs": [],
     "prompt_number": 98
    },
    {
     "cell_type": "code",
     "collapsed": false,
     "input": [
      "dfg = g['item'].aggregate(len)"
     ],
     "language": "python",
     "metadata": {},
     "outputs": [],
     "prompt_number": 105
    },
    {
     "cell_type": "code",
     "collapsed": false,
     "input": [
      "top10cat = dfg.order(ascending=False).head(10)"
     ],
     "language": "python",
     "metadata": {},
     "outputs": [],
     "prompt_number": 129
    },
    {
     "cell_type": "code",
     "collapsed": false,
     "input": [
      "dfg.order(ascending=False).plot(kind='bar')"
     ],
     "language": "python",
     "metadata": {},
     "outputs": [
      {
       "metadata": {},
       "output_type": "pyout",
       "prompt_number": 128,
       "text": [
        "<matplotlib.axes._subplots.AxesSubplot at 0x115be5950>"
       ]
      },
      {
       "metadata": {},
       "output_type": "display_data",
       "png": "[encoded data removed]",
       "text": [
        "<matplotlib.figure.Figure at 0x115befb50>"
       ]
      }
     ],
     "prompt_number": 128
    },
    {
     "cell_type": "code",
     "collapsed": false,
     "input": [
      "top10cat.index"
     ],
     "language": "python",
     "metadata": {},
     "outputs": [
      {
       "metadata": {},
       "output_type": "pyout",
       "prompt_number": 133,
       "text": [
        "Index([u'desktop-publishing', u'accounting-and-finance-tools', u'desktop-operating-systems', u'data-and-privacy-protection', u'backup-and-restore', u'collaboration-tools', u'server-operating-systems', u'audio-and-video', u'project-management', u'databases'], dtype='object')"
       ]
      }
     ],
     "prompt_number": 133
    },
    {
     "cell_type": "code",
     "collapsed": false,
     "input": [
      "dfs = df.dropna(subset=['category'])\n",
      "dfs['category_short'] = map(lambda x: x if x in top10cat else 'other', dfs['category'])"
     ],
     "language": "python",
     "metadata": {},
     "outputs": [
      {
       "output_type": "stream",
       "stream": "stderr",
       "text": [
        "-c:3: SettingWithCopyWarning: \n",
        "A value is trying to be set on a copy of a slice from a DataFrame.\n",
        "Try using .loc[row_indexer,col_indexer] = value instead\n",
        "\n",
        "See the the caveats in the documentation: http://pandas.pydata.org/pandas-docs/stable/indexing.html#indexing-view-versus-copy\n"
       ]
      }
     ],
     "prompt_number": 163
    },
    {
     "cell_type": "code",
     "collapsed": false,
     "input": [
      "len(dfs)"
     ],
     "language": "python",
     "metadata": {},
     "outputs": [
      {
       "metadata": {},
       "output_type": "pyout",
       "prompt_number": 164,
       "text": [
        "497033"
       ]
      }
     ],
     "prompt_number": 164
    },
    {
     "cell_type": "code",
     "collapsed": false,
     "input": [
      "# take top 10 categories, bin everything else into 'other'\n",
      "dfs2 = dfs[['org', 'category_short', 'item']]"
     ],
     "language": "python",
     "metadata": {},
     "outputs": [],
     "prompt_number": 166
    },
    {
     "cell_type": "code",
     "collapsed": false,
     "input": [
      "g2 = dfs2.groupby(['org', 'category_short'], as_index=False)\n",
      "dfg2 = g2.aggregate(len)"
     ],
     "language": "python",
     "metadata": {},
     "outputs": [],
     "prompt_number": 170
    },
    {
     "cell_type": "code",
     "collapsed": false,
     "input": [
      "dfcat = pd.pivot_table(dfg2, values='item', index=['org'], columns=['category_short'], aggfunc=np.sum).fillna(0)"
     ],
     "language": "python",
     "metadata": {},
     "outputs": [],
     "prompt_number": 176
    },
    {
     "cell_type": "code",
     "collapsed": false,
     "input": [
      "# take subset of columns from original dataset, remove missing categories and duplicates\n",
      "df.columns"
     ],
     "language": "python",
     "metadata": {},
     "outputs": [
      {
       "metadata": {},
       "output_type": "pyout",
       "prompt_number": 178,
       "text": [
        "Index([u'pri_key', u'org', u'city', u'state', u'postalcode', u'country', u'org_type', u'org_subtype', u'budget', u'reg_date', u'contact', u'role', u'role_description', u'order_num', u'tax_id_number', u'landing_page', u'Medium', u'transaction_date', u'vendor', u'item', u'category', u'licenses', u'revenue', u'value'], dtype='object')"
       ]
      }
     ],
     "prompt_number": 178
    },
    {
     "cell_type": "code",
     "collapsed": false,
     "input": [
      "dforg = df.dropna(subset=['category'])[['org', 'city', 'country', 'org_type', 'org_subtype', \\\n",
      "    'budget', 'reg_date']].drop_duplicates()"
     ],
     "language": "python",
     "metadata": {},
     "outputs": [],
     "prompt_number": 213
    },
    {
     "cell_type": "code",
     "collapsed": false,
     "input": [
      "dforg.set_index('org', inplace=True)"
     ],
     "language": "python",
     "metadata": {},
     "outputs": [],
     "prompt_number": 214
    },
    {
     "cell_type": "code",
     "collapsed": false,
     "input": [
      "dforg.head()"
     ],
     "language": "python",
     "metadata": {},
     "outputs": [
      {
       "html": [
        "<div style=\"max-height:1000px;max-width:1500px;overflow:auto;\">\n",
        "<table border=\"1\" class=\"dataframe\">\n",
        "  <thead>\n",
        "    <tr style=\"text-align: right;\">\n",
        "      <th></th>\n",
        "      <th>city</th>\n",
        "      <th>country</th>\n",
        "      <th>org_type</th>\n",
        "      <th>org_subtype</th>\n",
        "      <th>budget</th>\n",
        "      <th>reg_date</th>\n",
        "    </tr>\n",
        "    <tr>\n",
        "      <th>org</th>\n",
        "      <th></th>\n",
        "      <th></th>\n",
        "      <th></th>\n",
        "      <th></th>\n",
        "      <th></th>\n",
        "      <th></th>\n",
        "    </tr>\n",
        "  </thead>\n",
        "  <tbody>\n",
        "    <tr>\n",
        "      <th>105872</th>\n",
        "      <td>     Villa Rica</td>\n",
        "      <td> US</td>\n",
        "      <td> 15</td>\n",
        "      <td> 408</td>\n",
        "      <td>  100000</td>\n",
        "      <td> 2002-09-05 10:38:23.483</td>\n",
        "    </tr>\n",
        "    <tr>\n",
        "      <th>102705</th>\n",
        "      <td>        Oakland</td>\n",
        "      <td> US</td>\n",
        "      <td> 13</td>\n",
        "      <td> 379</td>\n",
        "      <td> 1912000</td>\n",
        "      <td> 2004-11-23 16:11:47.677</td>\n",
        "    </tr>\n",
        "    <tr>\n",
        "      <th>443748</th>\n",
        "      <td>    Kansas City</td>\n",
        "      <td> US</td>\n",
        "      <td> 15</td>\n",
        "      <td> 408</td>\n",
        "      <td>    1000</td>\n",
        "      <td>  2009-09-12 10:17:01.05</td>\n",
        "    </tr>\n",
        "    <tr>\n",
        "      <th>111063</th>\n",
        "      <td>         Newman</td>\n",
        "      <td> US</td>\n",
        "      <td>  3</td>\n",
        "      <td> 009</td>\n",
        "      <td>   55000</td>\n",
        "      <td> 2004-10-19 10:31:29.673</td>\n",
        "    </tr>\n",
        "    <tr>\n",
        "      <th>123036</th>\n",
        "      <td> Salt Lake City</td>\n",
        "      <td> US</td>\n",
        "      <td>  3</td>\n",
        "      <td> 060</td>\n",
        "      <td>  820000</td>\n",
        "      <td> 2002-01-11 09:15:51.077</td>\n",
        "    </tr>\n",
        "  </tbody>\n",
        "</table>\n",
        "</div>"
       ],
       "metadata": {},
       "output_type": "pyout",
       "prompt_number": 215,
       "text": [
        "                  city country  org_type org_subtype   budget  \\\n",
        "org                                                             \n",
        "105872      Villa Rica      US        15         408   100000   \n",
        "102705         Oakland      US        13         379  1912000   \n",
        "443748     Kansas City      US        15         408     1000   \n",
        "111063          Newman      US         3         009    55000   \n",
        "123036  Salt Lake City      US         3         060   820000   \n",
        "\n",
        "                       reg_date  \n",
        "org                              \n",
        "105872  2002-09-05 10:38:23.483  \n",
        "102705  2004-11-23 16:11:47.677  \n",
        "443748   2009-09-12 10:17:01.05  \n",
        "111063  2004-10-19 10:31:29.673  \n",
        "123036  2002-01-11 09:15:51.077  "
       ]
      }
     ],
     "prompt_number": 215
    },
    {
     "cell_type": "code",
     "collapsed": false,
     "input": [
      "# join the 2 tables\n",
      "df_org_cat = dfcat.join(dforg)"
     ],
     "language": "python",
     "metadata": {},
     "outputs": [],
     "prompt_number": 217
    },
    {
     "cell_type": "code",
     "collapsed": false,
     "input": [
      "len(df_org_cat)"
     ],
     "language": "python",
     "metadata": {},
     "outputs": [
      {
       "metadata": {},
       "output_type": "pyout",
       "prompt_number": 218,
       "text": [
        "142820"
       ]
      }
     ],
     "prompt_number": 218
    },
    {
     "cell_type": "code",
     "collapsed": false,
     "input": [
      "# top 10 categories joined with 'other'\n",
      "np.hstack([top10cat.index.values, ['other']]).tolist()"
     ],
     "language": "python",
     "metadata": {},
     "outputs": []
    },
    {
     "cell_type": "code",
     "collapsed": false,
     "input": [
      "rfc = RandomForestClassifier()"
     ],
     "language": "python",
     "metadata": {},
     "outputs": [],
     "prompt_number": 220
    },
    {
     "cell_type": "code",
     "collapsed": false,
     "input": [
      "# this doesn't work yet ...\n",
      "#rfc.fit(X=df_org_cat[['city', 'country', 'org_type', 'org_subtype', 'budget']].fillna(0), \\\n",
      "#        y=df_org_cat[np.hstack([top10cat.index.values, ['other']]).tolist()])"
     ],
     "language": "python",
     "metadata": {},
     "outputs": [],
     "prompt_number": 239
    },
    {
     "cell_type": "code",
     "collapsed": false,
     "input": [],
     "language": "python",
     "metadata": {},
     "outputs": []
    }
   ],
   "metadata": {}
  }
 ]
}